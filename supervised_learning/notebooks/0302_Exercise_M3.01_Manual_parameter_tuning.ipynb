{
 "cells": [
  {
   "cell_type": "markdown",
   "id": "b6c934ed",
   "metadata": {},
   "source": [
    "# 📝 Exercise M3.01\n",
    "\n",
    "The goal is to write an exhaustive search to find the best parameters\n",
    "combination maximizing the model generalization performance.\n",
    "\n",
    "Here we use a small subset of the Adult Census dataset to make the code\n",
    "faster to execute. Once your code works on the small subset, try to\n",
    "change `train_size` to a larger value (e.g. 0.8 for 80% instead of\n",
    "20%)."
   ]
  },
  {
   "cell_type": "code",
   "execution_count": 2,
   "id": "199895b5",
   "metadata": {},
   "outputs": [],
   "source": [
    "import pandas as pd\n",
    "\n",
    "from sklearn.model_selection import train_test_split\n",
    "\n",
    "adult_census = pd.read_csv(\"../datasets/adult-census.csv\")\n",
    "\n",
    "target_name = \"class\"\n",
    "target = adult_census[target_name]\n",
    "data = adult_census.drop(columns=[target_name, \"education-num\"])\n",
    "\n",
    "data_train, data_test, target_train, target_test = train_test_split(\n",
    "    data, target, train_size=0.2, random_state=42)"
   ]
  },
  {
   "cell_type": "code",
   "execution_count": 3,
   "id": "6794c581",
   "metadata": {},
   "outputs": [],
   "source": [
    "from sklearn.compose import ColumnTransformer\n",
    "from sklearn.compose import make_column_selector as selector\n",
    "from sklearn.preprocessing import OrdinalEncoder\n",
    "\n",
    "categorical_preprocessor = OrdinalEncoder(handle_unknown=\"use_encoded_value\",\n",
    "                                          unknown_value=-1)\n",
    "preprocessor = ColumnTransformer(\n",
    "    [('cat_preprocessor', categorical_preprocessor,\n",
    "      selector(dtype_include=object))],\n",
    "    remainder='passthrough', sparse_threshold=0)\n",
    "\n",
    "from sklearn.ensemble import HistGradientBoostingClassifier\n",
    "from sklearn.pipeline import Pipeline\n",
    "\n",
    "model = Pipeline([\n",
    "    (\"preprocessor\", preprocessor),\n",
    "    (\"classifier\", HistGradientBoostingClassifier(random_state=42))\n",
    "])"
   ]
  },
  {
   "cell_type": "markdown",
   "id": "add8273a",
   "metadata": {},
   "source": [
    "\n",
    "Use the previously defined model (called `model`) and using two nested `for`\n",
    "loops, make a search of the best combinations of the `learning_rate` and\n",
    "`max_leaf_nodes` parameters. In this regard, you will need to train and test\n",
    "the model by setting the parameters. The evaluation of the model should be\n",
    "performed using `cross_val_score` on the training set. We will use the\n",
    "following parameters search:\n",
    "- `learning_rate` for the values 0.01, 0.1, 1 and 10. This parameter controls\n",
    "  the ability of a new tree to correct the error of the previous sequence of\n",
    "  trees\n",
    "- `max_leaf_nodes` for the values 3, 10, 30. This parameter controls the\n",
    "  depth of each tree."
   ]
  },
  {
   "cell_type": "code",
   "execution_count": 14,
   "id": "8088798f",
   "metadata": {},
   "outputs": [
    {
     "name": "stdout",
     "output_type": "stream",
     "text": [
      "Accuracy with learning_rate 0.01 and max_leaf_nodes 3 : 0.799 +/- 0.001\n",
      "Accuracy with learning_rate 0.01 and max_leaf_nodes 10 : 0.820 +/- 0.002\n",
      "Accuracy with learning_rate 0.01 and max_leaf_nodes 30 : 0.848 +/- 0.002\n",
      "Accuracy with learning_rate 0.1 and max_leaf_nodes 3 : 0.856 +/- 0.003\n",
      "Accuracy with learning_rate 0.1 and max_leaf_nodes 10 : 0.870 +/- 0.001\n",
      "Accuracy with learning_rate 0.1 and max_leaf_nodes 30 : 0.874 +/- 0.002\n",
      "Accuracy with learning_rate 1 and max_leaf_nodes 3 : 0.870 +/- 0.003\n",
      "Accuracy with learning_rate 1 and max_leaf_nodes 10 : 0.867 +/- 0.002\n",
      "Accuracy with learning_rate 1 and max_leaf_nodes 30 : 0.860 +/- 0.005\n",
      "Accuracy with learning_rate 10 and max_leaf_nodes 3 : 0.281 +/- 0.004\n",
      "Accuracy with learning_rate 10 and max_leaf_nodes 10 : 0.761 +/- 0.045\n",
      "Accuracy with learning_rate 10 and max_leaf_nodes 30 : 0.616 +/- 0.179\n"
     ]
    }
   ],
   "source": [
    "from sklearn.model_selection import cross_validate\n",
    "\n",
    "for i in [0.01, 0.1, 1, 10]:\n",
    "    model.set_params(classifier__learning_rate=i)\n",
    "    for j in [3, 10, 30]:\n",
    "        model.set_params(classifier__max_leaf_nodes=j)\n",
    "        cv_results = cross_validate(model, data, target)\n",
    "        scores = cv_results[\"test_score\"]\n",
    "        print(f\"Accuracy with learning_rate {i} and max_leaf_nodes {j} : {scores.mean():.3f} +/- {scores.std():.3f}\")"
   ]
  },
  {
   "cell_type": "markdown",
   "id": "94660bb2",
   "metadata": {},
   "source": [
    "### Best score with learning_rate=0.1 and max_leaf_nodes=30"
   ]
  },
  {
   "cell_type": "markdown",
   "id": "dea898db",
   "metadata": {},
   "source": [
    "\n",
    "Now use the test set to score the model using the best parameters\n",
    "that we found using cross-validation in the training set."
   ]
  },
  {
   "cell_type": "code",
   "execution_count": null,
   "id": "6d730a56",
   "metadata": {},
   "outputs": [],
   "source": [
    "model.set_params(classifier__learning_rate=0.1)\n",
    "model.set_params(classifier__max_leaf_nodes=30)\n",
    "cv_results = cross_validate(model, data, target)"
   ]
  }
 ],
 "metadata": {
  "jupytext": {
   "main_language": "python"
  },
  "kernelspec": {
   "display_name": "Python 3 (ipykernel)",
   "language": "python",
   "name": "python3"
  },
  "language_info": {
   "codemirror_mode": {
    "name": "ipython",
    "version": 3
   },
   "file_extension": ".py",
   "mimetype": "text/x-python",
   "name": "python",
   "nbconvert_exporter": "python",
   "pygments_lexer": "ipython3",
   "version": "3.9.7"
  }
 },
 "nbformat": 4,
 "nbformat_minor": 5
}
