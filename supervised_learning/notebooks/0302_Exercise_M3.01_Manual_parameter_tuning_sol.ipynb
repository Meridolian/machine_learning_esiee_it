{
 "cells": [
  {
   "cell_type": "markdown",
   "id": "31cf2423",
   "metadata": {},
   "source": [
    "# 📝 Exercise M3.01\n",
    "\n",
    "The goal is to **write an exhaustive search** to **find the best parameters**\n",
    "combination **maximizing the model statistical performance**.\n",
    "\n",
    "Here we use a **small subset of the Adult Census dataset** to make the code\n",
    "fast to execute. Once your code works on the small subset, try to\n",
    "change `train_size` to a larger value (e.g. 0.8 for 80% instead of\n",
    "20%)."
   ]
  },
  {
   "cell_type": "code",
   "execution_count": 1,
   "id": "13d4d32f",
   "metadata": {},
   "outputs": [],
   "source": [
    "import pandas as pd\n",
    "\n",
    "from sklearn.model_selection import train_test_split\n",
    "\n",
    "adult_census = pd.read_csv(\"../datasets/adult-census_valid.csv\")\n",
    "\n",
    "target_name = \"class\"\n",
    "target = adult_census[target_name]\n",
    "data = adult_census.drop(columns=[target_name, \"education-num\"])\n",
    "\n",
    "data_train, data_test, target_train, target_test = train_test_split(\n",
    "    data, target, train_size=0.2, random_state=42, )"
   ]
  },
  {
   "cell_type": "code",
   "execution_count": 2,
   "id": "e3a045aa",
   "metadata": {},
   "outputs": [
    {
     "data": {
      "text/plain": [
       "(48842, 9768, 39074)"
      ]
     },
     "execution_count": 2,
     "metadata": {},
     "output_type": "execute_result"
    }
   ],
   "source": [
    "len(data), len(data_train), len(data_test)"
   ]
  },
  {
   "cell_type": "code",
   "execution_count": 3,
   "id": "01571036",
   "metadata": {},
   "outputs": [
    {
     "data": {
      "text/plain": [
       " <=50K    37155\n",
       " >50K     11687\n",
       "Name: class, dtype: int64"
      ]
     },
     "execution_count": 3,
     "metadata": {},
     "output_type": "execute_result"
    }
   ],
   "source": [
    "target.value_counts()"
   ]
  },
  {
   "cell_type": "code",
   "execution_count": 4,
   "id": "e86f1d78",
   "metadata": {},
   "outputs": [
    {
     "name": "stderr",
     "output_type": "stream",
     "text": [
      "C:\\Users\\R21\\anaconda3\\envs\\dl\\lib\\site-packages\\sklearn\\experimental\\enable_hist_gradient_boosting.py:16: UserWarning: Since version 1.0, it is not needed to import enable_hist_gradient_boosting anymore. HistGradientBoostingClassifier and HistGradientBoostingRegressor are now stable and can be normally imported from sklearn.ensemble.\n",
      "  warnings.warn(\n"
     ]
    }
   ],
   "source": [
    "from sklearn.compose import ColumnTransformer\n",
    "from sklearn.compose import make_column_selector as selector\n",
    "from sklearn.preprocessing import OrdinalEncoder\n",
    "\n",
    "categorical_preprocessor = OrdinalEncoder(handle_unknown=\"use_encoded_value\",\n",
    "                                          unknown_value=-1)\n",
    "preprocessor = ColumnTransformer(\n",
    "    [('cat-preprocessor', categorical_preprocessor,\n",
    "      selector(dtype_include=object))],\n",
    "    remainder='passthrough', sparse_threshold=0)\n",
    "\n",
    "# This line is currently required to import HistGradientBoostingClassifier\n",
    "from sklearn.experimental import enable_hist_gradient_boosting\n",
    "from sklearn.ensemble import HistGradientBoostingClassifier\n",
    "from sklearn.pipeline import Pipeline\n",
    "\n",
    "model = Pipeline([\n",
    "    (\"preprocessor\", preprocessor),\n",
    "    (\"classifier\", HistGradientBoostingClassifier(random_state=42))\n",
    "])"
   ]
  },
  {
   "cell_type": "markdown",
   "id": "a5123f81",
   "metadata": {},
   "source": [
    "\n",
    "Use the previously defined model (called `model`) and using **two nested `for`\n",
    "loops**, search for the **best combinations of the `learning_rate` and\n",
    "`max_leaf_nodes` parameters**. In this regard, you will need to train and test\n",
    "the model by setting the parameters. The **evaluation** of the model should be\n",
    "performed using **`cross_val_score`**. We will use the following parameters\n",
    "search:\n",
    "- **`learning_rate`** for the values 0.01, 0.1, 1 and 10. This parameter **controls\n",
    "  the ability of a new tree to correct the error of the previous sequence of\n",
    "  trees**\n",
    "- **`max_leaf_nodes`** for the values 3, 10, 30. This parameter **controls the\n",
    "  depth of each tree**."
   ]
  },
  {
   "cell_type": "code",
   "execution_count": 5,
   "id": "41ed042f",
   "metadata": {},
   "outputs": [
    {
     "name": "stdout",
     "output_type": "stream",
     "text": [
      "lr:  0.01, mln:  3, scoremean: 0.799, scorestd: 0.001\n",
      "lr:  0.01, mln: 10, scoremean: 0.820, scorestd: 0.002\n",
      "lr:  0.01, mln: 30, scoremean: 0.848, scorestd: 0.002\n",
      "lr:  0.10, mln:  3, scoremean: 0.856, scorestd: 0.003\n",
      "lr:  0.10, mln: 10, scoremean: 0.871, scorestd: 0.002\n",
      "lr:  0.10, mln: 30, scoremean: 0.873, scorestd: 0.002\n",
      "lr:  1.00, mln:  3, scoremean: 0.869, scorestd: 0.003\n",
      "lr:  1.00, mln: 10, scoremean: 0.867, scorestd: 0.003\n",
      "lr:  1.00, mln: 30, scoremean: 0.862, scorestd: 0.005\n",
      "lr: 10.00, mln:  3, scoremean: 0.281, scorestd: 0.004\n",
      "lr: 10.00, mln: 10, scoremean: 0.763, scorestd: 0.041\n",
      "lr: 10.00, mln: 30, scoremean: 0.616, scorestd: 0.179\n"
     ]
    }
   ],
   "source": [
    "from sklearn.model_selection import cross_val_score\n",
    "\n",
    "learning_rates = [0.01, 0.1, 1, 10]\n",
    "max_leaf_nodes = [3, 10, 30]\n",
    "\n",
    "for lr in learning_rates:\n",
    "    for mln in max_leaf_nodes:\n",
    "        model.set_params(classifier__learning_rate=lr, classifier__max_leaf_nodes=mln)\n",
    "        score = cross_val_score(model, data, target, )\n",
    "        print(f\"lr: {lr:5.2f}, mln: {mln:2.0f}, scoremean: {score.mean():.3f}, scorestd: {score.std():.3f}\")"
   ]
  },
  {
   "cell_type": "code",
   "execution_count": 6,
   "id": "dc66f60f",
   "metadata": {},
   "outputs": [
    {
     "name": "stdout",
     "output_type": "stream",
     "text": [
      "lr:  0.01, mln:  3, scoremean: 0.580, scorestd: 0.003\n",
      "lr:  0.01, mln: 10, scoremean: 0.628, scorestd: 0.004\n",
      "lr:  0.01, mln: 30, scoremean: 0.699, scorestd: 0.004\n",
      "lr:  0.10, mln:  3, scoremean: 0.744, scorestd: 0.006\n",
      "lr:  0.10, mln: 10, scoremean: 0.787, scorestd: 0.004\n",
      "lr:  0.10, mln: 30, scoremean: 0.796, scorestd: 0.005\n",
      "lr:  1.00, mln:  3, scoremean: 0.788, scorestd: 0.006\n",
      "lr:  1.00, mln: 10, scoremean: 0.790, scorestd: 0.007\n",
      "lr:  1.00, mln: 30, scoremean: 0.789, scorestd: 0.004\n",
      "lr: 10.00, mln:  3, scoremean: 0.268, scorestd: 0.004\n",
      "lr: 10.00, mln: 10, scoremean: 0.578, scorestd: 0.041\n",
      "lr: 10.00, mln: 30, scoremean: 0.546, scorestd: 0.173\n"
     ]
    }
   ],
   "source": [
    "for lr in learning_rates:\n",
    "    for mln in max_leaf_nodes:\n",
    "        model.set_params(classifier__learning_rate=lr, classifier__max_leaf_nodes=mln)\n",
    "        score = cross_val_score(model, data, target, scoring=\"balanced_accuracy\")\n",
    "        print(f\"lr: {lr:5.2f}, mln: {mln:2.0f}, scoremean: {score.mean():.3f}, scorestd: {score.std():.3f}\")"
   ]
  },
  {
   "cell_type": "markdown",
   "id": "b7c89798",
   "metadata": {},
   "source": [
    "**Best parameter combination** for\n",
    "\n",
    "learning_rate, max_leaf_nodes\n",
    "\n",
    "lr:  0.10, mln: 30, scoremean: 0.797, scorestd: 0.005"
   ]
  },
  {
   "cell_type": "code",
   "execution_count": 7,
   "id": "a73d43ec",
   "metadata": {},
   "outputs": [
    {
     "name": "stdout",
     "output_type": "stream",
     "text": [
      "memory\n",
      "steps\n",
      "verbose\n",
      "preprocessor\n",
      "classifier\n",
      "preprocessor__n_jobs\n",
      "preprocessor__remainder\n",
      "preprocessor__sparse_threshold\n",
      "preprocessor__transformer_weights\n",
      "preprocessor__transformers\n",
      "preprocessor__verbose\n",
      "preprocessor__verbose_feature_names_out\n",
      "preprocessor__cat-preprocessor\n",
      "preprocessor__cat-preprocessor__categories\n",
      "preprocessor__cat-preprocessor__dtype\n",
      "preprocessor__cat-preprocessor__handle_unknown\n",
      "preprocessor__cat-preprocessor__unknown_value\n",
      "classifier__categorical_features\n",
      "classifier__early_stopping\n",
      "classifier__l2_regularization\n",
      "classifier__learning_rate\n",
      "classifier__loss\n",
      "classifier__max_bins\n",
      "classifier__max_depth\n",
      "classifier__max_iter\n",
      "classifier__max_leaf_nodes\n",
      "classifier__min_samples_leaf\n",
      "classifier__monotonic_cst\n",
      "classifier__n_iter_no_change\n",
      "classifier__random_state\n",
      "classifier__scoring\n",
      "classifier__tol\n",
      "classifier__validation_fraction\n",
      "classifier__verbose\n",
      "classifier__warm_start\n"
     ]
    }
   ],
   "source": [
    "for parameter in model.get_params():\n",
    "    print(parameter)"
   ]
  },
  {
   "cell_type": "code",
   "execution_count": null,
   "id": "9f0c5988",
   "metadata": {},
   "outputs": [],
   "source": []
  }
 ],
 "metadata": {
  "kernelspec": {
   "display_name": "Python 3 (ipykernel)",
   "language": "python",
   "name": "python3"
  },
  "language_info": {
   "codemirror_mode": {
    "name": "ipython",
    "version": 3
   },
   "file_extension": ".py",
   "mimetype": "text/x-python",
   "name": "python",
   "nbconvert_exporter": "python",
   "pygments_lexer": "ipython3",
   "version": "3.8.0"
  },
  "nbreset": "https://github.com/INRIA/scikit-learn-mooc/raw/master/notebooks/parameter_tuning_ex_02.ipynb"
 },
 "nbformat": 4,
 "nbformat_minor": 5
}
