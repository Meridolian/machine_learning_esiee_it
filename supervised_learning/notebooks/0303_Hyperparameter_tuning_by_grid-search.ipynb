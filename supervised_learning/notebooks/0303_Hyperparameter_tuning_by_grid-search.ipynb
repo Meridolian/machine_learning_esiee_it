{
 "cells": [
  {
   "cell_type": "markdown",
   "id": "ba9fc258",
   "metadata": {},
   "source": [
    "# Hyperparameter tuning by grid-search\n",
    "\n",
    "In the previous notebook, we saw that hyperparameters can affect the\n",
    "statistical performance of a model. In this notebook, we will show how to\n",
    "**optimize hyperparameters using a grid-search approach**."
   ]
  },
  {
   "cell_type": "markdown",
   "id": "c8b03d5a",
   "metadata": {},
   "source": [
    "## Our predictive model\n",
    "\n",
    "Let us reload the dataset as we did previously:"
   ]
  },
  {
   "cell_type": "code",
   "execution_count": 1,
   "id": "77896704",
   "metadata": {},
   "outputs": [],
   "source": [
    "from sklearn import set_config\n",
    "\n",
    "set_config(display=\"diagram\")"
   ]
  },
  {
   "cell_type": "code",
   "execution_count": 2,
   "id": "df516599",
   "metadata": {},
   "outputs": [],
   "source": [
    "import pandas as pd\n",
    "\n",
    "adult_census = pd.read_csv(\"../datasets/adult-census_valid.csv\")"
   ]
  },
  {
   "cell_type": "markdown",
   "id": "a10981e0",
   "metadata": {},
   "source": [
    "We extract the column containing the target."
   ]
  },
  {
   "cell_type": "code",
   "execution_count": 3,
   "id": "69f4a442",
   "metadata": {},
   "outputs": [
    {
     "data": {
      "text/plain": [
       "0         <=50K\n",
       "1         <=50K\n",
       "2          >50K\n",
       "3          >50K\n",
       "4         <=50K\n",
       "          ...  \n",
       "48837     <=50K\n",
       "48838      >50K\n",
       "48839     <=50K\n",
       "48840     <=50K\n",
       "48841      >50K\n",
       "Name: class, Length: 48842, dtype: object"
      ]
     },
     "execution_count": 3,
     "metadata": {},
     "output_type": "execute_result"
    }
   ],
   "source": [
    "target_name = \"class\"\n",
    "target = adult_census[target_name]\n",
    "target"
   ]
  },
  {
   "cell_type": "code",
   "execution_count": 4,
   "id": "8e64d757",
   "metadata": {},
   "outputs": [
    {
     "data": {
      "text/plain": [
       " <=50K    37155\n",
       " >50K     11687\n",
       "Name: class, dtype: int64"
      ]
     },
     "execution_count": 4,
     "metadata": {},
     "output_type": "execute_result"
    }
   ],
   "source": [
    "target.value_counts()"
   ]
  },
  {
   "cell_type": "markdown",
   "id": "328bebe0",
   "metadata": {},
   "source": [
    "We drop from our data the target and the `\"education-num\"` column which\n",
    "duplicates the information from the `\"education\"` column."
   ]
  },
  {
   "cell_type": "code",
   "execution_count": 5,
   "id": "a259385b",
   "metadata": {},
   "outputs": [
    {
     "data": {
      "text/html": [
       "<div>\n",
       "<style scoped>\n",
       "    .dataframe tbody tr th:only-of-type {\n",
       "        vertical-align: middle;\n",
       "    }\n",
       "\n",
       "    .dataframe tbody tr th {\n",
       "        vertical-align: top;\n",
       "    }\n",
       "\n",
       "    .dataframe thead th {\n",
       "        text-align: right;\n",
       "    }\n",
       "</style>\n",
       "<table border=\"1\" class=\"dataframe\">\n",
       "  <thead>\n",
       "    <tr style=\"text-align: right;\">\n",
       "      <th></th>\n",
       "      <th>age</th>\n",
       "      <th>workclass</th>\n",
       "      <th>education</th>\n",
       "      <th>marital-status</th>\n",
       "      <th>occupation</th>\n",
       "      <th>relationship</th>\n",
       "      <th>sex</th>\n",
       "      <th>capital-gain</th>\n",
       "      <th>capital-loss</th>\n",
       "      <th>hours-per-week</th>\n",
       "      <th>native-country</th>\n",
       "    </tr>\n",
       "  </thead>\n",
       "  <tbody>\n",
       "    <tr>\n",
       "      <th>0</th>\n",
       "      <td>25</td>\n",
       "      <td>Private</td>\n",
       "      <td>11th</td>\n",
       "      <td>Never-married</td>\n",
       "      <td>Machine-op-inspct</td>\n",
       "      <td>Own-child</td>\n",
       "      <td>Male</td>\n",
       "      <td>0</td>\n",
       "      <td>0</td>\n",
       "      <td>40</td>\n",
       "      <td>United-States</td>\n",
       "    </tr>\n",
       "    <tr>\n",
       "      <th>1</th>\n",
       "      <td>38</td>\n",
       "      <td>Private</td>\n",
       "      <td>HS-grad</td>\n",
       "      <td>Married-civ-spouse</td>\n",
       "      <td>Farming-fishing</td>\n",
       "      <td>Husband</td>\n",
       "      <td>Male</td>\n",
       "      <td>0</td>\n",
       "      <td>0</td>\n",
       "      <td>50</td>\n",
       "      <td>United-States</td>\n",
       "    </tr>\n",
       "    <tr>\n",
       "      <th>2</th>\n",
       "      <td>28</td>\n",
       "      <td>Local-gov</td>\n",
       "      <td>Assoc-acdm</td>\n",
       "      <td>Married-civ-spouse</td>\n",
       "      <td>Protective-serv</td>\n",
       "      <td>Husband</td>\n",
       "      <td>Male</td>\n",
       "      <td>0</td>\n",
       "      <td>0</td>\n",
       "      <td>40</td>\n",
       "      <td>United-States</td>\n",
       "    </tr>\n",
       "    <tr>\n",
       "      <th>3</th>\n",
       "      <td>44</td>\n",
       "      <td>Private</td>\n",
       "      <td>Some-college</td>\n",
       "      <td>Married-civ-spouse</td>\n",
       "      <td>Machine-op-inspct</td>\n",
       "      <td>Husband</td>\n",
       "      <td>Male</td>\n",
       "      <td>7688</td>\n",
       "      <td>0</td>\n",
       "      <td>40</td>\n",
       "      <td>United-States</td>\n",
       "    </tr>\n",
       "    <tr>\n",
       "      <th>4</th>\n",
       "      <td>18</td>\n",
       "      <td>?</td>\n",
       "      <td>Some-college</td>\n",
       "      <td>Never-married</td>\n",
       "      <td>?</td>\n",
       "      <td>Own-child</td>\n",
       "      <td>Female</td>\n",
       "      <td>0</td>\n",
       "      <td>0</td>\n",
       "      <td>30</td>\n",
       "      <td>United-States</td>\n",
       "    </tr>\n",
       "  </tbody>\n",
       "</table>\n",
       "</div>"
      ],
      "text/plain": [
       "   age   workclass      education       marital-status          occupation  \\\n",
       "0   25     Private           11th        Never-married   Machine-op-inspct   \n",
       "1   38     Private        HS-grad   Married-civ-spouse     Farming-fishing   \n",
       "2   28   Local-gov     Assoc-acdm   Married-civ-spouse     Protective-serv   \n",
       "3   44     Private   Some-college   Married-civ-spouse   Machine-op-inspct   \n",
       "4   18           ?   Some-college        Never-married                   ?   \n",
       "\n",
       "  relationship      sex  capital-gain  capital-loss  hours-per-week  \\\n",
       "0    Own-child     Male             0             0              40   \n",
       "1      Husband     Male             0             0              50   \n",
       "2      Husband     Male             0             0              40   \n",
       "3      Husband     Male          7688             0              40   \n",
       "4    Own-child   Female             0             0              30   \n",
       "\n",
       "   native-country  \n",
       "0   United-States  \n",
       "1   United-States  \n",
       "2   United-States  \n",
       "3   United-States  \n",
       "4   United-States  "
      ]
     },
     "execution_count": 5,
     "metadata": {},
     "output_type": "execute_result"
    }
   ],
   "source": [
    "data = adult_census.drop(columns=[target_name, \"education-num\"])\n",
    "data.head()"
   ]
  },
  {
   "cell_type": "markdown",
   "id": "0cf4599e",
   "metadata": {},
   "source": [
    "Once the dataset is loaded, we **split it into a training and test sets**."
   ]
  },
  {
   "cell_type": "code",
   "execution_count": 6,
   "id": "cd12eb5e",
   "metadata": {},
   "outputs": [],
   "source": [
    "from sklearn.model_selection import train_test_split\n",
    "\n",
    "data_train, data_test, target_train, target_test = train_test_split(\n",
    "    data, target, random_state=42)"
   ]
  },
  {
   "cell_type": "markdown",
   "id": "f5949cd3",
   "metadata": {},
   "source": [
    "We will **define a pipeline** as seen in the first module. It will handle both\n",
    "numerical and categorical features.\n",
    "\n",
    "As we will use a **tree-based model** as a predictor, here we apply an **ordinal\n",
    "encoder** to the categorical features: it encodes every category with an\n",
    "arbitrary integer. For simple models such as linear models, a one-hot encoder\n",
    "should be preferred. But for complex models, in particular tree-based models,\n",
    "the ordinal encoder is useful as it avoids having high-dimensional\n",
    "representations.\n",
    "\n",
    "First we **select all the categorical columns**."
   ]
  },
  {
   "cell_type": "code",
   "execution_count": 7,
   "id": "fbec9592",
   "metadata": {},
   "outputs": [],
   "source": [
    "from sklearn.compose import make_column_selector as selector\n",
    "\n",
    "categorical_columns_selector = selector(dtype_include=object)\n",
    "categorical_columns = categorical_columns_selector(data)"
   ]
  },
  {
   "cell_type": "markdown",
   "id": "ff6ff49c",
   "metadata": {},
   "source": [
    "Then we **build our ordinal encoder**, giving it the known categories."
   ]
  },
  {
   "cell_type": "code",
   "execution_count": 8,
   "id": "73fc0e93",
   "metadata": {},
   "outputs": [],
   "source": [
    "from sklearn.preprocessing import OrdinalEncoder\n",
    "\n",
    "categorical_preprocessor = OrdinalEncoder(handle_unknown=\"use_encoded_value\",\n",
    "                                          unknown_value=-1)"
   ]
  },
  {
   "cell_type": "markdown",
   "id": "a8c8a46f",
   "metadata": {},
   "source": [
    "We now use a **column transformer to select the categorical columns**\n",
    "and **apply the ordinal encoder** to them."
   ]
  },
  {
   "cell_type": "code",
   "execution_count": 9,
   "id": "6f68270b",
   "metadata": {},
   "outputs": [],
   "source": [
    "from sklearn.compose import ColumnTransformer\n",
    "\n",
    "preprocessor = ColumnTransformer([\n",
    "    ('cat-preprocessor', categorical_preprocessor, categorical_columns)],\n",
    "    remainder='passthrough', sparse_threshold=0)"
   ]
  },
  {
   "cell_type": "markdown",
   "id": "736d1591",
   "metadata": {},
   "source": [
    "Finally, we use a tree-based classifier (i.e. **histogram gradient-boosting**) to\n",
    "predict whether or not a person earns more than $50k a year."
   ]
  },
  {
   "cell_type": "code",
   "execution_count": 10,
   "id": "9f911d66",
   "metadata": {},
   "outputs": [
    {
     "name": "stderr",
     "output_type": "stream",
     "text": [
      "/home/meridolian/miniconda3/envs/learning/lib/python3.9/site-packages/sklearn/experimental/enable_hist_gradient_boosting.py:16: UserWarning: Since version 1.0, it is not needed to import enable_hist_gradient_boosting anymore. HistGradientBoostingClassifier and HistGradientBoostingRegressor are now stable and can be normally imported from sklearn.ensemble.\n",
      "  warnings.warn(\n"
     ]
    },
    {
     "data": {
      "text/html": [
       "<style>#sk-6341eaee-051a-4e3a-9f15-db6e7d8c808d {color: black;background-color: white;}#sk-6341eaee-051a-4e3a-9f15-db6e7d8c808d pre{padding: 0;}#sk-6341eaee-051a-4e3a-9f15-db6e7d8c808d div.sk-toggleable {background-color: white;}#sk-6341eaee-051a-4e3a-9f15-db6e7d8c808d label.sk-toggleable__label {cursor: pointer;display: block;width: 100%;margin-bottom: 0;padding: 0.3em;box-sizing: border-box;text-align: center;}#sk-6341eaee-051a-4e3a-9f15-db6e7d8c808d label.sk-toggleable__label-arrow:before {content: \"▸\";float: left;margin-right: 0.25em;color: #696969;}#sk-6341eaee-051a-4e3a-9f15-db6e7d8c808d label.sk-toggleable__label-arrow:hover:before {color: black;}#sk-6341eaee-051a-4e3a-9f15-db6e7d8c808d div.sk-estimator:hover label.sk-toggleable__label-arrow:before {color: black;}#sk-6341eaee-051a-4e3a-9f15-db6e7d8c808d div.sk-toggleable__content {max-height: 0;max-width: 0;overflow: hidden;text-align: left;background-color: #f0f8ff;}#sk-6341eaee-051a-4e3a-9f15-db6e7d8c808d div.sk-toggleable__content pre {margin: 0.2em;color: black;border-radius: 0.25em;background-color: #f0f8ff;}#sk-6341eaee-051a-4e3a-9f15-db6e7d8c808d input.sk-toggleable__control:checked~div.sk-toggleable__content {max-height: 200px;max-width: 100%;overflow: auto;}#sk-6341eaee-051a-4e3a-9f15-db6e7d8c808d input.sk-toggleable__control:checked~label.sk-toggleable__label-arrow:before {content: \"▾\";}#sk-6341eaee-051a-4e3a-9f15-db6e7d8c808d div.sk-estimator input.sk-toggleable__control:checked~label.sk-toggleable__label {background-color: #d4ebff;}#sk-6341eaee-051a-4e3a-9f15-db6e7d8c808d div.sk-label input.sk-toggleable__control:checked~label.sk-toggleable__label {background-color: #d4ebff;}#sk-6341eaee-051a-4e3a-9f15-db6e7d8c808d input.sk-hidden--visually {border: 0;clip: rect(1px 1px 1px 1px);clip: rect(1px, 1px, 1px, 1px);height: 1px;margin: -1px;overflow: hidden;padding: 0;position: absolute;width: 1px;}#sk-6341eaee-051a-4e3a-9f15-db6e7d8c808d div.sk-estimator {font-family: monospace;background-color: #f0f8ff;border: 1px dotted black;border-radius: 0.25em;box-sizing: border-box;margin-bottom: 0.5em;}#sk-6341eaee-051a-4e3a-9f15-db6e7d8c808d div.sk-estimator:hover {background-color: #d4ebff;}#sk-6341eaee-051a-4e3a-9f15-db6e7d8c808d div.sk-parallel-item::after {content: \"\";width: 100%;border-bottom: 1px solid gray;flex-grow: 1;}#sk-6341eaee-051a-4e3a-9f15-db6e7d8c808d div.sk-label:hover label.sk-toggleable__label {background-color: #d4ebff;}#sk-6341eaee-051a-4e3a-9f15-db6e7d8c808d div.sk-serial::before {content: \"\";position: absolute;border-left: 1px solid gray;box-sizing: border-box;top: 2em;bottom: 0;left: 50%;}#sk-6341eaee-051a-4e3a-9f15-db6e7d8c808d div.sk-serial {display: flex;flex-direction: column;align-items: center;background-color: white;padding-right: 0.2em;padding-left: 0.2em;}#sk-6341eaee-051a-4e3a-9f15-db6e7d8c808d div.sk-item {z-index: 1;}#sk-6341eaee-051a-4e3a-9f15-db6e7d8c808d div.sk-parallel {display: flex;align-items: stretch;justify-content: center;background-color: white;}#sk-6341eaee-051a-4e3a-9f15-db6e7d8c808d div.sk-parallel::before {content: \"\";position: absolute;border-left: 1px solid gray;box-sizing: border-box;top: 2em;bottom: 0;left: 50%;}#sk-6341eaee-051a-4e3a-9f15-db6e7d8c808d div.sk-parallel-item {display: flex;flex-direction: column;position: relative;background-color: white;}#sk-6341eaee-051a-4e3a-9f15-db6e7d8c808d div.sk-parallel-item:first-child::after {align-self: flex-end;width: 50%;}#sk-6341eaee-051a-4e3a-9f15-db6e7d8c808d div.sk-parallel-item:last-child::after {align-self: flex-start;width: 50%;}#sk-6341eaee-051a-4e3a-9f15-db6e7d8c808d div.sk-parallel-item:only-child::after {width: 0;}#sk-6341eaee-051a-4e3a-9f15-db6e7d8c808d div.sk-dashed-wrapped {border: 1px dashed gray;margin: 0 0.4em 0.5em 0.4em;box-sizing: border-box;padding-bottom: 0.4em;background-color: white;position: relative;}#sk-6341eaee-051a-4e3a-9f15-db6e7d8c808d div.sk-label label {font-family: monospace;font-weight: bold;background-color: white;display: inline-block;line-height: 1.2em;}#sk-6341eaee-051a-4e3a-9f15-db6e7d8c808d div.sk-label-container {position: relative;z-index: 2;text-align: center;}#sk-6341eaee-051a-4e3a-9f15-db6e7d8c808d div.sk-container {/* jupyter's `normalize.less` sets `[hidden] { display: none; }` but bootstrap.min.css set `[hidden] { display: none !important; }` so we also need the `!important` here to be able to override the default hidden behavior on the sphinx rendered scikit-learn.org. See: https://github.com/scikit-learn/scikit-learn/issues/21755 */display: inline-block !important;position: relative;}#sk-6341eaee-051a-4e3a-9f15-db6e7d8c808d div.sk-text-repr-fallback {display: none;}</style><div id=\"sk-6341eaee-051a-4e3a-9f15-db6e7d8c808d\" class=\"sk-top-container\"><div class=\"sk-text-repr-fallback\"><pre>Pipeline(steps=[(&#x27;preprocessor&#x27;,\n",
       "                 ColumnTransformer(remainder=&#x27;passthrough&#x27;, sparse_threshold=0,\n",
       "                                   transformers=[(&#x27;cat-preprocessor&#x27;,\n",
       "                                                  OrdinalEncoder(handle_unknown=&#x27;use_encoded_value&#x27;,\n",
       "                                                                 unknown_value=-1),\n",
       "                                                  [&#x27;workclass&#x27;, &#x27;education&#x27;,\n",
       "                                                   &#x27;marital-status&#x27;,\n",
       "                                                   &#x27;occupation&#x27;, &#x27;relationship&#x27;,\n",
       "                                                   &#x27;sex&#x27;,\n",
       "                                                   &#x27;native-country&#x27;])])),\n",
       "                (&#x27;classifier&#x27;,\n",
       "                 HistGradientBoostingClassifier(max_leaf_nodes=4,\n",
       "                                                random_state=42))])</pre><b>Please rerun this cell to show the HTML repr or trust the notebook.</b></div><div class=\"sk-container\" hidden><div class=\"sk-item sk-dashed-wrapped\"><div class=\"sk-label-container\"><div class=\"sk-label sk-toggleable\"><input class=\"sk-toggleable__control sk-hidden--visually\" id=\"bfedac7d-9e3f-43fd-8bf2-8d61acf36db3\" type=\"checkbox\" ><label for=\"bfedac7d-9e3f-43fd-8bf2-8d61acf36db3\" class=\"sk-toggleable__label sk-toggleable__label-arrow\">Pipeline</label><div class=\"sk-toggleable__content\"><pre>Pipeline(steps=[(&#x27;preprocessor&#x27;,\n",
       "                 ColumnTransformer(remainder=&#x27;passthrough&#x27;, sparse_threshold=0,\n",
       "                                   transformers=[(&#x27;cat-preprocessor&#x27;,\n",
       "                                                  OrdinalEncoder(handle_unknown=&#x27;use_encoded_value&#x27;,\n",
       "                                                                 unknown_value=-1),\n",
       "                                                  [&#x27;workclass&#x27;, &#x27;education&#x27;,\n",
       "                                                   &#x27;marital-status&#x27;,\n",
       "                                                   &#x27;occupation&#x27;, &#x27;relationship&#x27;,\n",
       "                                                   &#x27;sex&#x27;,\n",
       "                                                   &#x27;native-country&#x27;])])),\n",
       "                (&#x27;classifier&#x27;,\n",
       "                 HistGradientBoostingClassifier(max_leaf_nodes=4,\n",
       "                                                random_state=42))])</pre></div></div></div><div class=\"sk-serial\"><div class=\"sk-item sk-dashed-wrapped\"><div class=\"sk-label-container\"><div class=\"sk-label sk-toggleable\"><input class=\"sk-toggleable__control sk-hidden--visually\" id=\"5d722deb-8b19-42bc-a85e-9960cf7aba2a\" type=\"checkbox\" ><label for=\"5d722deb-8b19-42bc-a85e-9960cf7aba2a\" class=\"sk-toggleable__label sk-toggleable__label-arrow\">preprocessor: ColumnTransformer</label><div class=\"sk-toggleable__content\"><pre>ColumnTransformer(remainder=&#x27;passthrough&#x27;, sparse_threshold=0,\n",
       "                  transformers=[(&#x27;cat-preprocessor&#x27;,\n",
       "                                 OrdinalEncoder(handle_unknown=&#x27;use_encoded_value&#x27;,\n",
       "                                                unknown_value=-1),\n",
       "                                 [&#x27;workclass&#x27;, &#x27;education&#x27;, &#x27;marital-status&#x27;,\n",
       "                                  &#x27;occupation&#x27;, &#x27;relationship&#x27;, &#x27;sex&#x27;,\n",
       "                                  &#x27;native-country&#x27;])])</pre></div></div></div><div class=\"sk-parallel\"><div class=\"sk-parallel-item\"><div class=\"sk-item\"><div class=\"sk-label-container\"><div class=\"sk-label sk-toggleable\"><input class=\"sk-toggleable__control sk-hidden--visually\" id=\"d7d46ac7-5a91-4476-b0d1-e1062936a12b\" type=\"checkbox\" ><label for=\"d7d46ac7-5a91-4476-b0d1-e1062936a12b\" class=\"sk-toggleable__label sk-toggleable__label-arrow\">cat-preprocessor</label><div class=\"sk-toggleable__content\"><pre>[&#x27;workclass&#x27;, &#x27;education&#x27;, &#x27;marital-status&#x27;, &#x27;occupation&#x27;, &#x27;relationship&#x27;, &#x27;sex&#x27;, &#x27;native-country&#x27;]</pre></div></div></div><div class=\"sk-serial\"><div class=\"sk-item\"><div class=\"sk-estimator sk-toggleable\"><input class=\"sk-toggleable__control sk-hidden--visually\" id=\"5369ef3d-3bd2-4ebe-8b2f-e2c5a8985e76\" type=\"checkbox\" ><label for=\"5369ef3d-3bd2-4ebe-8b2f-e2c5a8985e76\" class=\"sk-toggleable__label sk-toggleable__label-arrow\">OrdinalEncoder</label><div class=\"sk-toggleable__content\"><pre>OrdinalEncoder(handle_unknown=&#x27;use_encoded_value&#x27;, unknown_value=-1)</pre></div></div></div></div></div></div><div class=\"sk-parallel-item\"><div class=\"sk-item\"><div class=\"sk-label-container\"><div class=\"sk-label sk-toggleable\"><input class=\"sk-toggleable__control sk-hidden--visually\" id=\"c412ed8a-d0e3-48ea-9c7f-8e156e95c042\" type=\"checkbox\" ><label for=\"c412ed8a-d0e3-48ea-9c7f-8e156e95c042\" class=\"sk-toggleable__label sk-toggleable__label-arrow\">remainder</label><div class=\"sk-toggleable__content\"><pre></pre></div></div></div><div class=\"sk-serial\"><div class=\"sk-item\"><div class=\"sk-estimator sk-toggleable\"><input class=\"sk-toggleable__control sk-hidden--visually\" id=\"d8731b53-5207-48d0-8715-c453aaeee7a7\" type=\"checkbox\" ><label for=\"d8731b53-5207-48d0-8715-c453aaeee7a7\" class=\"sk-toggleable__label sk-toggleable__label-arrow\">passthrough</label><div class=\"sk-toggleable__content\"><pre>passthrough</pre></div></div></div></div></div></div></div></div><div class=\"sk-item\"><div class=\"sk-estimator sk-toggleable\"><input class=\"sk-toggleable__control sk-hidden--visually\" id=\"ba7bcc45-a0c2-49bf-b013-1f2d78534b9d\" type=\"checkbox\" ><label for=\"ba7bcc45-a0c2-49bf-b013-1f2d78534b9d\" class=\"sk-toggleable__label sk-toggleable__label-arrow\">HistGradientBoostingClassifier</label><div class=\"sk-toggleable__content\"><pre>HistGradientBoostingClassifier(max_leaf_nodes=4, random_state=42)</pre></div></div></div></div></div></div></div>"
      ],
      "text/plain": [
       "Pipeline(steps=[('preprocessor',\n",
       "                 ColumnTransformer(remainder='passthrough', sparse_threshold=0,\n",
       "                                   transformers=[('cat-preprocessor',\n",
       "                                                  OrdinalEncoder(handle_unknown='use_encoded_value',\n",
       "                                                                 unknown_value=-1),\n",
       "                                                  ['workclass', 'education',\n",
       "                                                   'marital-status',\n",
       "                                                   'occupation', 'relationship',\n",
       "                                                   'sex',\n",
       "                                                   'native-country'])])),\n",
       "                ('classifier',\n",
       "                 HistGradientBoostingClassifier(max_leaf_nodes=4,\n",
       "                                                random_state=42))])"
      ]
     },
     "execution_count": 10,
     "metadata": {},
     "output_type": "execute_result"
    }
   ],
   "source": [
    "# for the moment this line is required to import HistGradientBoostingClassifier\n",
    "from sklearn.experimental import enable_hist_gradient_boosting\n",
    "from sklearn.ensemble import HistGradientBoostingClassifier\n",
    "from sklearn.pipeline import Pipeline\n",
    "\n",
    "model = Pipeline([\n",
    "    (\"preprocessor\", preprocessor),\n",
    "    (\"classifier\",\n",
    "     HistGradientBoostingClassifier(random_state=42, max_leaf_nodes=4))])\n",
    "model"
   ]
  },
  {
   "cell_type": "markdown",
   "id": "337ae745",
   "metadata": {},
   "source": [
    "## Tuning using a grid-search\n",
    "\n",
    "Instead of manually writing the two `for` loops, scikit-learn provides a\n",
    "class called `GridSearchCV` which implement the exhaustive search implemented\n",
    "during the exercise.\n",
    "\n",
    "Let see how to use the **`GridSearchCV` estimator** for doing such search.\n",
    "Since the grid-search will be costly, we will only explore the combination\n",
    "learning-rate and the maximum number of nodes."
   ]
  },
  {
   "cell_type": "code",
   "execution_count": 11,
   "id": "d1a4f909",
   "metadata": {},
   "outputs": [
    {
     "name": "stdout",
     "output_type": "stream",
     "text": [
      "CPU times: user 8.77 s, sys: 45 ms, total: 8.82 s\n",
      "Wall time: 5.17 s\n"
     ]
    },
    {
     "data": {
      "text/html": [
       "<style>#sk-94e08a9c-2de6-45ec-b096-431c51470559 {color: black;background-color: white;}#sk-94e08a9c-2de6-45ec-b096-431c51470559 pre{padding: 0;}#sk-94e08a9c-2de6-45ec-b096-431c51470559 div.sk-toggleable {background-color: white;}#sk-94e08a9c-2de6-45ec-b096-431c51470559 label.sk-toggleable__label {cursor: pointer;display: block;width: 100%;margin-bottom: 0;padding: 0.3em;box-sizing: border-box;text-align: center;}#sk-94e08a9c-2de6-45ec-b096-431c51470559 label.sk-toggleable__label-arrow:before {content: \"▸\";float: left;margin-right: 0.25em;color: #696969;}#sk-94e08a9c-2de6-45ec-b096-431c51470559 label.sk-toggleable__label-arrow:hover:before {color: black;}#sk-94e08a9c-2de6-45ec-b096-431c51470559 div.sk-estimator:hover label.sk-toggleable__label-arrow:before {color: black;}#sk-94e08a9c-2de6-45ec-b096-431c51470559 div.sk-toggleable__content {max-height: 0;max-width: 0;overflow: hidden;text-align: left;background-color: #f0f8ff;}#sk-94e08a9c-2de6-45ec-b096-431c51470559 div.sk-toggleable__content pre {margin: 0.2em;color: black;border-radius: 0.25em;background-color: #f0f8ff;}#sk-94e08a9c-2de6-45ec-b096-431c51470559 input.sk-toggleable__control:checked~div.sk-toggleable__content {max-height: 200px;max-width: 100%;overflow: auto;}#sk-94e08a9c-2de6-45ec-b096-431c51470559 input.sk-toggleable__control:checked~label.sk-toggleable__label-arrow:before {content: \"▾\";}#sk-94e08a9c-2de6-45ec-b096-431c51470559 div.sk-estimator input.sk-toggleable__control:checked~label.sk-toggleable__label {background-color: #d4ebff;}#sk-94e08a9c-2de6-45ec-b096-431c51470559 div.sk-label input.sk-toggleable__control:checked~label.sk-toggleable__label {background-color: #d4ebff;}#sk-94e08a9c-2de6-45ec-b096-431c51470559 input.sk-hidden--visually {border: 0;clip: rect(1px 1px 1px 1px);clip: rect(1px, 1px, 1px, 1px);height: 1px;margin: -1px;overflow: hidden;padding: 0;position: absolute;width: 1px;}#sk-94e08a9c-2de6-45ec-b096-431c51470559 div.sk-estimator {font-family: monospace;background-color: #f0f8ff;border: 1px dotted black;border-radius: 0.25em;box-sizing: border-box;margin-bottom: 0.5em;}#sk-94e08a9c-2de6-45ec-b096-431c51470559 div.sk-estimator:hover {background-color: #d4ebff;}#sk-94e08a9c-2de6-45ec-b096-431c51470559 div.sk-parallel-item::after {content: \"\";width: 100%;border-bottom: 1px solid gray;flex-grow: 1;}#sk-94e08a9c-2de6-45ec-b096-431c51470559 div.sk-label:hover label.sk-toggleable__label {background-color: #d4ebff;}#sk-94e08a9c-2de6-45ec-b096-431c51470559 div.sk-serial::before {content: \"\";position: absolute;border-left: 1px solid gray;box-sizing: border-box;top: 2em;bottom: 0;left: 50%;}#sk-94e08a9c-2de6-45ec-b096-431c51470559 div.sk-serial {display: flex;flex-direction: column;align-items: center;background-color: white;padding-right: 0.2em;padding-left: 0.2em;}#sk-94e08a9c-2de6-45ec-b096-431c51470559 div.sk-item {z-index: 1;}#sk-94e08a9c-2de6-45ec-b096-431c51470559 div.sk-parallel {display: flex;align-items: stretch;justify-content: center;background-color: white;}#sk-94e08a9c-2de6-45ec-b096-431c51470559 div.sk-parallel::before {content: \"\";position: absolute;border-left: 1px solid gray;box-sizing: border-box;top: 2em;bottom: 0;left: 50%;}#sk-94e08a9c-2de6-45ec-b096-431c51470559 div.sk-parallel-item {display: flex;flex-direction: column;position: relative;background-color: white;}#sk-94e08a9c-2de6-45ec-b096-431c51470559 div.sk-parallel-item:first-child::after {align-self: flex-end;width: 50%;}#sk-94e08a9c-2de6-45ec-b096-431c51470559 div.sk-parallel-item:last-child::after {align-self: flex-start;width: 50%;}#sk-94e08a9c-2de6-45ec-b096-431c51470559 div.sk-parallel-item:only-child::after {width: 0;}#sk-94e08a9c-2de6-45ec-b096-431c51470559 div.sk-dashed-wrapped {border: 1px dashed gray;margin: 0 0.4em 0.5em 0.4em;box-sizing: border-box;padding-bottom: 0.4em;background-color: white;position: relative;}#sk-94e08a9c-2de6-45ec-b096-431c51470559 div.sk-label label {font-family: monospace;font-weight: bold;background-color: white;display: inline-block;line-height: 1.2em;}#sk-94e08a9c-2de6-45ec-b096-431c51470559 div.sk-label-container {position: relative;z-index: 2;text-align: center;}#sk-94e08a9c-2de6-45ec-b096-431c51470559 div.sk-container {/* jupyter's `normalize.less` sets `[hidden] { display: none; }` but bootstrap.min.css set `[hidden] { display: none !important; }` so we also need the `!important` here to be able to override the default hidden behavior on the sphinx rendered scikit-learn.org. See: https://github.com/scikit-learn/scikit-learn/issues/21755 */display: inline-block !important;position: relative;}#sk-94e08a9c-2de6-45ec-b096-431c51470559 div.sk-text-repr-fallback {display: none;}</style><div id=\"sk-94e08a9c-2de6-45ec-b096-431c51470559\" class=\"sk-top-container\"><div class=\"sk-text-repr-fallback\"><pre>GridSearchCV(cv=2,\n",
       "             estimator=Pipeline(steps=[(&#x27;preprocessor&#x27;,\n",
       "                                        ColumnTransformer(remainder=&#x27;passthrough&#x27;,\n",
       "                                                          sparse_threshold=0,\n",
       "                                                          transformers=[(&#x27;cat-preprocessor&#x27;,\n",
       "                                                                         OrdinalEncoder(handle_unknown=&#x27;use_encoded_value&#x27;,\n",
       "                                                                                        unknown_value=-1),\n",
       "                                                                         [&#x27;workclass&#x27;,\n",
       "                                                                          &#x27;education&#x27;,\n",
       "                                                                          &#x27;marital-status&#x27;,\n",
       "                                                                          &#x27;occupation&#x27;,\n",
       "                                                                          &#x27;relationship&#x27;,\n",
       "                                                                          &#x27;sex&#x27;,\n",
       "                                                                          &#x27;native-country&#x27;])])),\n",
       "                                       (&#x27;classifier&#x27;,\n",
       "                                        HistGradientBoostingClassifier(max_leaf_nodes=4,\n",
       "                                                                       random_state=42))]),\n",
       "             n_jobs=4,\n",
       "             param_grid={&#x27;classifier__learning_rate&#x27;: (0.05, 0.1, 0.5, 1, 5),\n",
       "                         &#x27;classifier__max_leaf_nodes&#x27;: (3, 10, 30, 100)})</pre><b>Please rerun this cell to show the HTML repr or trust the notebook.</b></div><div class=\"sk-container\" hidden><div class=\"sk-item sk-dashed-wrapped\"><div class=\"sk-label-container\"><div class=\"sk-label sk-toggleable\"><input class=\"sk-toggleable__control sk-hidden--visually\" id=\"25d7c08b-99cb-439b-85ca-01436567eeee\" type=\"checkbox\" ><label for=\"25d7c08b-99cb-439b-85ca-01436567eeee\" class=\"sk-toggleable__label sk-toggleable__label-arrow\">GridSearchCV</label><div class=\"sk-toggleable__content\"><pre>GridSearchCV(cv=2,\n",
       "             estimator=Pipeline(steps=[(&#x27;preprocessor&#x27;,\n",
       "                                        ColumnTransformer(remainder=&#x27;passthrough&#x27;,\n",
       "                                                          sparse_threshold=0,\n",
       "                                                          transformers=[(&#x27;cat-preprocessor&#x27;,\n",
       "                                                                         OrdinalEncoder(handle_unknown=&#x27;use_encoded_value&#x27;,\n",
       "                                                                                        unknown_value=-1),\n",
       "                                                                         [&#x27;workclass&#x27;,\n",
       "                                                                          &#x27;education&#x27;,\n",
       "                                                                          &#x27;marital-status&#x27;,\n",
       "                                                                          &#x27;occupation&#x27;,\n",
       "                                                                          &#x27;relationship&#x27;,\n",
       "                                                                          &#x27;sex&#x27;,\n",
       "                                                                          &#x27;native-country&#x27;])])),\n",
       "                                       (&#x27;classifier&#x27;,\n",
       "                                        HistGradientBoostingClassifier(max_leaf_nodes=4,\n",
       "                                                                       random_state=42))]),\n",
       "             n_jobs=4,\n",
       "             param_grid={&#x27;classifier__learning_rate&#x27;: (0.05, 0.1, 0.5, 1, 5),\n",
       "                         &#x27;classifier__max_leaf_nodes&#x27;: (3, 10, 30, 100)})</pre></div></div></div><div class=\"sk-parallel\"><div class=\"sk-parallel-item\"><div class=\"sk-item\"><div class=\"sk-serial\"><div class=\"sk-item\"><div class=\"sk-serial\"><div class=\"sk-item sk-dashed-wrapped\"><div class=\"sk-label-container\"><div class=\"sk-label sk-toggleable\"><input class=\"sk-toggleable__control sk-hidden--visually\" id=\"89acd23a-751e-4ffb-a341-72edfd769cac\" type=\"checkbox\" ><label for=\"89acd23a-751e-4ffb-a341-72edfd769cac\" class=\"sk-toggleable__label sk-toggleable__label-arrow\">preprocessor: ColumnTransformer</label><div class=\"sk-toggleable__content\"><pre>ColumnTransformer(remainder=&#x27;passthrough&#x27;, sparse_threshold=0,\n",
       "                  transformers=[(&#x27;cat-preprocessor&#x27;,\n",
       "                                 OrdinalEncoder(handle_unknown=&#x27;use_encoded_value&#x27;,\n",
       "                                                unknown_value=-1),\n",
       "                                 [&#x27;workclass&#x27;, &#x27;education&#x27;, &#x27;marital-status&#x27;,\n",
       "                                  &#x27;occupation&#x27;, &#x27;relationship&#x27;, &#x27;sex&#x27;,\n",
       "                                  &#x27;native-country&#x27;])])</pre></div></div></div><div class=\"sk-parallel\"><div class=\"sk-parallel-item\"><div class=\"sk-item\"><div class=\"sk-label-container\"><div class=\"sk-label sk-toggleable\"><input class=\"sk-toggleable__control sk-hidden--visually\" id=\"7c035d23-c0c4-40e5-ac5b-57b2bcf0b2bb\" type=\"checkbox\" ><label for=\"7c035d23-c0c4-40e5-ac5b-57b2bcf0b2bb\" class=\"sk-toggleable__label sk-toggleable__label-arrow\">cat-preprocessor</label><div class=\"sk-toggleable__content\"><pre>[&#x27;workclass&#x27;, &#x27;education&#x27;, &#x27;marital-status&#x27;, &#x27;occupation&#x27;, &#x27;relationship&#x27;, &#x27;sex&#x27;, &#x27;native-country&#x27;]</pre></div></div></div><div class=\"sk-serial\"><div class=\"sk-item\"><div class=\"sk-estimator sk-toggleable\"><input class=\"sk-toggleable__control sk-hidden--visually\" id=\"6ec8ef9c-9e05-404d-a177-114be2384e32\" type=\"checkbox\" ><label for=\"6ec8ef9c-9e05-404d-a177-114be2384e32\" class=\"sk-toggleable__label sk-toggleable__label-arrow\">OrdinalEncoder</label><div class=\"sk-toggleable__content\"><pre>OrdinalEncoder(handle_unknown=&#x27;use_encoded_value&#x27;, unknown_value=-1)</pre></div></div></div></div></div></div><div class=\"sk-parallel-item\"><div class=\"sk-item\"><div class=\"sk-label-container\"><div class=\"sk-label sk-toggleable\"><input class=\"sk-toggleable__control sk-hidden--visually\" id=\"1acdb7fa-2194-4f5e-acb1-673cc26bb746\" type=\"checkbox\" ><label for=\"1acdb7fa-2194-4f5e-acb1-673cc26bb746\" class=\"sk-toggleable__label sk-toggleable__label-arrow\">remainder</label><div class=\"sk-toggleable__content\"><pre></pre></div></div></div><div class=\"sk-serial\"><div class=\"sk-item\"><div class=\"sk-estimator sk-toggleable\"><input class=\"sk-toggleable__control sk-hidden--visually\" id=\"bc2d4aca-8e76-41b3-8373-abe9037b29e9\" type=\"checkbox\" ><label for=\"bc2d4aca-8e76-41b3-8373-abe9037b29e9\" class=\"sk-toggleable__label sk-toggleable__label-arrow\">passthrough</label><div class=\"sk-toggleable__content\"><pre>passthrough</pre></div></div></div></div></div></div></div></div><div class=\"sk-item\"><div class=\"sk-estimator sk-toggleable\"><input class=\"sk-toggleable__control sk-hidden--visually\" id=\"328dc6e4-9871-4747-8153-079146c01983\" type=\"checkbox\" ><label for=\"328dc6e4-9871-4747-8153-079146c01983\" class=\"sk-toggleable__label sk-toggleable__label-arrow\">HistGradientBoostingClassifier</label><div class=\"sk-toggleable__content\"><pre>HistGradientBoostingClassifier(max_leaf_nodes=4, random_state=42)</pre></div></div></div></div></div></div></div></div></div></div></div></div>"
      ],
      "text/plain": [
       "GridSearchCV(cv=2,\n",
       "             estimator=Pipeline(steps=[('preprocessor',\n",
       "                                        ColumnTransformer(remainder='passthrough',\n",
       "                                                          sparse_threshold=0,\n",
       "                                                          transformers=[('cat-preprocessor',\n",
       "                                                                         OrdinalEncoder(handle_unknown='use_encoded_value',\n",
       "                                                                                        unknown_value=-1),\n",
       "                                                                         ['workclass',\n",
       "                                                                          'education',\n",
       "                                                                          'marital-status',\n",
       "                                                                          'occupation',\n",
       "                                                                          'relationship',\n",
       "                                                                          'sex',\n",
       "                                                                          'native-country'])])),\n",
       "                                       ('classifier',\n",
       "                                        HistGradientBoostingClassifier(max_leaf_nodes=4,\n",
       "                                                                       random_state=42))]),\n",
       "             n_jobs=4,\n",
       "             param_grid={'classifier__learning_rate': (0.05, 0.1, 0.5, 1, 5),\n",
       "                         'classifier__max_leaf_nodes': (3, 10, 30, 100)})"
      ]
     },
     "execution_count": 11,
     "metadata": {},
     "output_type": "execute_result"
    }
   ],
   "source": [
    "%%time\n",
    "from sklearn.model_selection import GridSearchCV\n",
    "\n",
    "param_grid = {\n",
    "    'classifier__learning_rate': (0.05, 0.1, 0.5, 1, 5),\n",
    "    'classifier__max_leaf_nodes': (3, 10, 30, 100)}\n",
    "model_grid_search = GridSearchCV(model, param_grid=param_grid,\n",
    "                                 n_jobs=4, cv=2)\n",
    "model_grid_search.fit(data_train, target_train)"
   ]
  },
  {
   "cell_type": "markdown",
   "id": "5fb6143b",
   "metadata": {},
   "source": [
    "Finally, we will check the accuracy of our model using the test set."
   ]
  },
  {
   "cell_type": "code",
   "execution_count": 12,
   "id": "4bf1c041",
   "metadata": {},
   "outputs": [
    {
     "name": "stdout",
     "output_type": "stream",
     "text": [
      "The test accuracy score of the grid-searched pipeline is: 0.88\n"
     ]
    }
   ],
   "source": [
    "accuracy = model_grid_search.score(data_test, target_test)\n",
    "print(\n",
    "    f\"The test accuracy score of the grid-searched pipeline is: \"\n",
    "    f\"{accuracy:.2f}\"\n",
    ")"
   ]
  },
  {
   "cell_type": "markdown",
   "id": "7a019675",
   "metadata": {},
   "source": [
    "<div class=\"admonition warning alert alert-danger\">\n",
    "<p class=\"first admonition-title\" style=\"font-weight: bold;\">Warning</p>\n",
    "<p>Be aware that the evaluation should normally be performed in a\n",
    "cross-validation framework by providing <tt class=\"docutils literal\">model_grid_search</tt> as a model to\n",
    "the <tt class=\"docutils literal\">cross_validate</tt> function.</p>\n",
    "<p class=\"last\">Here, we are using a single train-test split to highlight the specificities\n",
    "of the <tt class=\"docutils literal\">model_grid_search</tt> instance. We will show such examples in the last\n",
    "section of this notebook.</p>\n",
    "</div>"
   ]
  },
  {
   "cell_type": "markdown",
   "id": "c1e3b467",
   "metadata": {},
   "source": [
    "The `GridSearchCV` estimator takes a **`param_grid` parameter** which defines\n",
    "all **hyperparameters and their associated values on the grid**. The grid-search will be in\n",
    "charge of creating all possible combinations and test them.\n",
    "\n",
    "The number of combinations will be equal to the product of the\n",
    "number of values to explore for each parameter (e.g. in our example 4 x 4\n",
    "combinations). Thus, adding new parameters with their associated values to be\n",
    "explored become rapidly computationally expensive.\n",
    "\n",
    "Once the **grid-search is fitted**, it can be used as any other predictor by\n",
    "calling **`predict`** and **`predict_proba`**. Internally, it **will use the model with\n",
    "the best parameters found during `fit`**.\n",
    "\n",
    "Get predictions for the 5 first samples using the estimator with the best\n",
    "parameters."
   ]
  },
  {
   "cell_type": "code",
   "execution_count": 13,
   "id": "60d4bcb9",
   "metadata": {},
   "outputs": [
    {
     "data": {
      "text/plain": [
       "array([' <=50K', ' <=50K', ' >50K', ' <=50K', ' >50K'], dtype=object)"
      ]
     },
     "execution_count": 13,
     "metadata": {},
     "output_type": "execute_result"
    }
   ],
   "source": [
    "model_grid_search.predict(data_test.iloc[0:5])"
   ]
  },
  {
   "cell_type": "markdown",
   "id": "a14c9ffb",
   "metadata": {},
   "source": [
    "You can know about these parameters by looking at the **`best_params_`\n",
    "attribute**."
   ]
  },
  {
   "cell_type": "code",
   "execution_count": 14,
   "id": "b3987eeb",
   "metadata": {},
   "outputs": [
    {
     "name": "stdout",
     "output_type": "stream",
     "text": [
      "The best set of parameters is: {'classifier__learning_rate': 0.1, 'classifier__max_leaf_nodes': 30}\n"
     ]
    }
   ],
   "source": [
    "print(f\"The best set of parameters is: \"\n",
    "      f\"{model_grid_search.best_params_}\")"
   ]
  },
  {
   "cell_type": "markdown",
   "id": "562b3b7e",
   "metadata": {},
   "source": [
    "The accuracy and the best parameters of the grid-searched pipeline are\n",
    "similar to the ones we found in the previous exercise, where we searched for the\n",
    "best parameters \"by hand\" through a double for loop.\n",
    "\n",
    "In addition, we can **inspect all results** which are stored in the **attribute\n",
    "`cv_results_`** of the grid-search. We will filter some specific columns\n",
    "from these results."
   ]
  },
  {
   "cell_type": "code",
   "execution_count": 15,
   "id": "26fc6542",
   "metadata": {},
   "outputs": [
    {
     "data": {
      "text/html": [
       "<div>\n",
       "<style scoped>\n",
       "    .dataframe tbody tr th:only-of-type {\n",
       "        vertical-align: middle;\n",
       "    }\n",
       "\n",
       "    .dataframe tbody tr th {\n",
       "        vertical-align: top;\n",
       "    }\n",
       "\n",
       "    .dataframe thead th {\n",
       "        text-align: right;\n",
       "    }\n",
       "</style>\n",
       "<table border=\"1\" class=\"dataframe\">\n",
       "  <thead>\n",
       "    <tr style=\"text-align: right;\">\n",
       "      <th></th>\n",
       "      <th>mean_fit_time</th>\n",
       "      <th>std_fit_time</th>\n",
       "      <th>mean_score_time</th>\n",
       "      <th>std_score_time</th>\n",
       "      <th>param_classifier__learning_rate</th>\n",
       "      <th>param_classifier__max_leaf_nodes</th>\n",
       "      <th>params</th>\n",
       "      <th>split0_test_score</th>\n",
       "      <th>split1_test_score</th>\n",
       "      <th>mean_test_score</th>\n",
       "      <th>std_test_score</th>\n",
       "      <th>rank_test_score</th>\n",
       "    </tr>\n",
       "  </thead>\n",
       "  <tbody>\n",
       "    <tr>\n",
       "      <th>6</th>\n",
       "      <td>0.371227</td>\n",
       "      <td>0.024250</td>\n",
       "      <td>0.108496</td>\n",
       "      <td>0.008047</td>\n",
       "      <td>0.1</td>\n",
       "      <td>30</td>\n",
       "      <td>{'classifier__learning_rate': 0.1, 'classifier...</td>\n",
       "      <td>0.868639</td>\n",
       "      <td>0.867486</td>\n",
       "      <td>0.868063</td>\n",
       "      <td>0.000577</td>\n",
       "      <td>1</td>\n",
       "    </tr>\n",
       "    <tr>\n",
       "      <th>2</th>\n",
       "      <td>0.558572</td>\n",
       "      <td>0.025275</td>\n",
       "      <td>0.130189</td>\n",
       "      <td>0.000124</td>\n",
       "      <td>0.05</td>\n",
       "      <td>30</td>\n",
       "      <td>{'classifier__learning_rate': 0.05, 'classifie...</td>\n",
       "      <td>0.868476</td>\n",
       "      <td>0.866557</td>\n",
       "      <td>0.867517</td>\n",
       "      <td>0.000959</td>\n",
       "      <td>2</td>\n",
       "    </tr>\n",
       "    <tr>\n",
       "      <th>5</th>\n",
       "      <td>0.308249</td>\n",
       "      <td>0.005827</td>\n",
       "      <td>0.112796</td>\n",
       "      <td>0.000249</td>\n",
       "      <td>0.1</td>\n",
       "      <td>10</td>\n",
       "      <td>{'classifier__learning_rate': 0.1, 'classifier...</td>\n",
       "      <td>0.867820</td>\n",
       "      <td>0.865629</td>\n",
       "      <td>0.866725</td>\n",
       "      <td>0.001096</td>\n",
       "      <td>3</td>\n",
       "    </tr>\n",
       "    <tr>\n",
       "      <th>9</th>\n",
       "      <td>0.164136</td>\n",
       "      <td>0.008255</td>\n",
       "      <td>0.071409</td>\n",
       "      <td>0.001688</td>\n",
       "      <td>0.5</td>\n",
       "      <td>10</td>\n",
       "      <td>{'classifier__learning_rate': 0.5, 'classifier...</td>\n",
       "      <td>0.867002</td>\n",
       "      <td>0.865356</td>\n",
       "      <td>0.866179</td>\n",
       "      <td>0.000823</td>\n",
       "      <td>4</td>\n",
       "    </tr>\n",
       "    <tr>\n",
       "      <th>10</th>\n",
       "      <td>0.137345</td>\n",
       "      <td>0.000451</td>\n",
       "      <td>0.073811</td>\n",
       "      <td>0.009792</td>\n",
       "      <td>0.5</td>\n",
       "      <td>30</td>\n",
       "      <td>{'classifier__learning_rate': 0.5, 'classifier...</td>\n",
       "      <td>0.868093</td>\n",
       "      <td>0.863937</td>\n",
       "      <td>0.866015</td>\n",
       "      <td>0.002078</td>\n",
       "      <td>5</td>\n",
       "    </tr>\n",
       "  </tbody>\n",
       "</table>\n",
       "</div>"
      ],
      "text/plain": [
       "    mean_fit_time  std_fit_time  mean_score_time  std_score_time  \\\n",
       "6        0.371227      0.024250         0.108496        0.008047   \n",
       "2        0.558572      0.025275         0.130189        0.000124   \n",
       "5        0.308249      0.005827         0.112796        0.000249   \n",
       "9        0.164136      0.008255         0.071409        0.001688   \n",
       "10       0.137345      0.000451         0.073811        0.009792   \n",
       "\n",
       "   param_classifier__learning_rate param_classifier__max_leaf_nodes  \\\n",
       "6                              0.1                               30   \n",
       "2                             0.05                               30   \n",
       "5                              0.1                               10   \n",
       "9                              0.5                               10   \n",
       "10                             0.5                               30   \n",
       "\n",
       "                                               params  split0_test_score  \\\n",
       "6   {'classifier__learning_rate': 0.1, 'classifier...           0.868639   \n",
       "2   {'classifier__learning_rate': 0.05, 'classifie...           0.868476   \n",
       "5   {'classifier__learning_rate': 0.1, 'classifier...           0.867820   \n",
       "9   {'classifier__learning_rate': 0.5, 'classifier...           0.867002   \n",
       "10  {'classifier__learning_rate': 0.5, 'classifier...           0.868093   \n",
       "\n",
       "    split1_test_score  mean_test_score  std_test_score  rank_test_score  \n",
       "6            0.867486         0.868063        0.000577                1  \n",
       "2            0.866557         0.867517        0.000959                2  \n",
       "5            0.865629         0.866725        0.001096                3  \n",
       "9            0.865356         0.866179        0.000823                4  \n",
       "10           0.863937         0.866015        0.002078                5  "
      ]
     },
     "execution_count": 15,
     "metadata": {},
     "output_type": "execute_result"
    }
   ],
   "source": [
    "cv_results = pd.DataFrame(model_grid_search.cv_results_).sort_values(\n",
    "    \"mean_test_score\", ascending=False)\n",
    "cv_results.head()"
   ]
  },
  {
   "cell_type": "markdown",
   "id": "e4f1bd65",
   "metadata": {},
   "source": [
    "Let us **focus on the most interesting columns** and shorten the parameter\n",
    "names to **remove the `\"param_classifier__\"` prefix** for readability:"
   ]
  },
  {
   "cell_type": "code",
   "execution_count": 16,
   "id": "f2a3ee52",
   "metadata": {},
   "outputs": [],
   "source": [
    "# get the parameter names\n",
    "column_results = [f\"param_{name}\" for name in param_grid.keys()]\n",
    "column_results += [\n",
    "    \"mean_test_score\", \"std_test_score\", \"rank_test_score\"]\n",
    "cv_results = cv_results[column_results]"
   ]
  },
  {
   "cell_type": "code",
   "execution_count": 17,
   "id": "6725b0a5",
   "metadata": {},
   "outputs": [
    {
     "data": {
      "text/html": [
       "<div>\n",
       "<style scoped>\n",
       "    .dataframe tbody tr th:only-of-type {\n",
       "        vertical-align: middle;\n",
       "    }\n",
       "\n",
       "    .dataframe tbody tr th {\n",
       "        vertical-align: top;\n",
       "    }\n",
       "\n",
       "    .dataframe thead th {\n",
       "        text-align: right;\n",
       "    }\n",
       "</style>\n",
       "<table border=\"1\" class=\"dataframe\">\n",
       "  <thead>\n",
       "    <tr style=\"text-align: right;\">\n",
       "      <th></th>\n",
       "      <th>learning_rate</th>\n",
       "      <th>max_leaf_nodes</th>\n",
       "      <th>mean_test_score</th>\n",
       "      <th>std_test_score</th>\n",
       "      <th>rank_test_score</th>\n",
       "    </tr>\n",
       "  </thead>\n",
       "  <tbody>\n",
       "    <tr>\n",
       "      <th>6</th>\n",
       "      <td>0.1</td>\n",
       "      <td>30</td>\n",
       "      <td>0.868063</td>\n",
       "      <td>0.000577</td>\n",
       "      <td>1</td>\n",
       "    </tr>\n",
       "    <tr>\n",
       "      <th>2</th>\n",
       "      <td>0.05</td>\n",
       "      <td>30</td>\n",
       "      <td>0.867517</td>\n",
       "      <td>0.000959</td>\n",
       "      <td>2</td>\n",
       "    </tr>\n",
       "    <tr>\n",
       "      <th>5</th>\n",
       "      <td>0.1</td>\n",
       "      <td>10</td>\n",
       "      <td>0.866725</td>\n",
       "      <td>0.001096</td>\n",
       "      <td>3</td>\n",
       "    </tr>\n",
       "    <tr>\n",
       "      <th>9</th>\n",
       "      <td>0.5</td>\n",
       "      <td>10</td>\n",
       "      <td>0.866179</td>\n",
       "      <td>0.000823</td>\n",
       "      <td>4</td>\n",
       "    </tr>\n",
       "    <tr>\n",
       "      <th>10</th>\n",
       "      <td>0.5</td>\n",
       "      <td>30</td>\n",
       "      <td>0.866015</td>\n",
       "      <td>0.002078</td>\n",
       "      <td>5</td>\n",
       "    </tr>\n",
       "    <tr>\n",
       "      <th>8</th>\n",
       "      <td>0.5</td>\n",
       "      <td>3</td>\n",
       "      <td>0.865606</td>\n",
       "      <td>0.000078</td>\n",
       "      <td>6</td>\n",
       "    </tr>\n",
       "    <tr>\n",
       "      <th>3</th>\n",
       "      <td>0.05</td>\n",
       "      <td>100</td>\n",
       "      <td>0.865524</td>\n",
       "      <td>0.002078</td>\n",
       "      <td>7</td>\n",
       "    </tr>\n",
       "    <tr>\n",
       "      <th>7</th>\n",
       "      <td>0.1</td>\n",
       "      <td>100</td>\n",
       "      <td>0.864541</td>\n",
       "      <td>0.000495</td>\n",
       "      <td>8</td>\n",
       "    </tr>\n",
       "    <tr>\n",
       "      <th>1</th>\n",
       "      <td>0.05</td>\n",
       "      <td>10</td>\n",
       "      <td>0.862275</td>\n",
       "      <td>0.000632</td>\n",
       "      <td>9</td>\n",
       "    </tr>\n",
       "    <tr>\n",
       "      <th>12</th>\n",
       "      <td>1</td>\n",
       "      <td>3</td>\n",
       "      <td>0.861784</td>\n",
       "      <td>0.000850</td>\n",
       "      <td>10</td>\n",
       "    </tr>\n",
       "    <tr>\n",
       "      <th>13</th>\n",
       "      <td>1</td>\n",
       "      <td>10</td>\n",
       "      <td>0.860364</td>\n",
       "      <td>0.002379</td>\n",
       "      <td>11</td>\n",
       "    </tr>\n",
       "    <tr>\n",
       "      <th>11</th>\n",
       "      <td>0.5</td>\n",
       "      <td>100</td>\n",
       "      <td>0.859381</td>\n",
       "      <td>0.000850</td>\n",
       "      <td>12</td>\n",
       "    </tr>\n",
       "    <tr>\n",
       "      <th>4</th>\n",
       "      <td>0.1</td>\n",
       "      <td>3</td>\n",
       "      <td>0.853266</td>\n",
       "      <td>0.000515</td>\n",
       "      <td>13</td>\n",
       "    </tr>\n",
       "    <tr>\n",
       "      <th>14</th>\n",
       "      <td>1</td>\n",
       "      <td>30</td>\n",
       "      <td>0.852857</td>\n",
       "      <td>0.007648</td>\n",
       "      <td>14</td>\n",
       "    </tr>\n",
       "    <tr>\n",
       "      <th>15</th>\n",
       "      <td>1</td>\n",
       "      <td>100</td>\n",
       "      <td>0.842756</td>\n",
       "      <td>0.002407</td>\n",
       "      <td>15</td>\n",
       "    </tr>\n",
       "    <tr>\n",
       "      <th>0</th>\n",
       "      <td>0.05</td>\n",
       "      <td>3</td>\n",
       "      <td>0.827196</td>\n",
       "      <td>0.000214</td>\n",
       "      <td>16</td>\n",
       "    </tr>\n",
       "    <tr>\n",
       "      <th>19</th>\n",
       "      <td>5</td>\n",
       "      <td>100</td>\n",
       "      <td>0.745515</td>\n",
       "      <td>0.037844</td>\n",
       "      <td>17</td>\n",
       "    </tr>\n",
       "    <tr>\n",
       "      <th>18</th>\n",
       "      <td>5</td>\n",
       "      <td>30</td>\n",
       "      <td>0.637871</td>\n",
       "      <td>0.144887</td>\n",
       "      <td>18</td>\n",
       "    </tr>\n",
       "    <tr>\n",
       "      <th>17</th>\n",
       "      <td>5</td>\n",
       "      <td>10</td>\n",
       "      <td>0.527527</td>\n",
       "      <td>0.175411</td>\n",
       "      <td>19</td>\n",
       "    </tr>\n",
       "    <tr>\n",
       "      <th>16</th>\n",
       "      <td>5</td>\n",
       "      <td>3</td>\n",
       "      <td>0.283476</td>\n",
       "      <td>0.003775</td>\n",
       "      <td>20</td>\n",
       "    </tr>\n",
       "  </tbody>\n",
       "</table>\n",
       "</div>"
      ],
      "text/plain": [
       "   learning_rate max_leaf_nodes  mean_test_score  std_test_score  \\\n",
       "6            0.1             30         0.868063        0.000577   \n",
       "2           0.05             30         0.867517        0.000959   \n",
       "5            0.1             10         0.866725        0.001096   \n",
       "9            0.5             10         0.866179        0.000823   \n",
       "10           0.5             30         0.866015        0.002078   \n",
       "8            0.5              3         0.865606        0.000078   \n",
       "3           0.05            100         0.865524        0.002078   \n",
       "7            0.1            100         0.864541        0.000495   \n",
       "1           0.05             10         0.862275        0.000632   \n",
       "12             1              3         0.861784        0.000850   \n",
       "13             1             10         0.860364        0.002379   \n",
       "11           0.5            100         0.859381        0.000850   \n",
       "4            0.1              3         0.853266        0.000515   \n",
       "14             1             30         0.852857        0.007648   \n",
       "15             1            100         0.842756        0.002407   \n",
       "0           0.05              3         0.827196        0.000214   \n",
       "19             5            100         0.745515        0.037844   \n",
       "18             5             30         0.637871        0.144887   \n",
       "17             5             10         0.527527        0.175411   \n",
       "16             5              3         0.283476        0.003775   \n",
       "\n",
       "    rank_test_score  \n",
       "6                 1  \n",
       "2                 2  \n",
       "5                 3  \n",
       "9                 4  \n",
       "10                5  \n",
       "8                 6  \n",
       "3                 7  \n",
       "7                 8  \n",
       "1                 9  \n",
       "12               10  \n",
       "13               11  \n",
       "11               12  \n",
       "4                13  \n",
       "14               14  \n",
       "15               15  \n",
       "0                16  \n",
       "19               17  \n",
       "18               18  \n",
       "17               19  \n",
       "16               20  "
      ]
     },
     "execution_count": 17,
     "metadata": {},
     "output_type": "execute_result"
    }
   ],
   "source": [
    "def shorten_param(param_name):\n",
    "    if \"__\" in param_name:\n",
    "        return param_name.rsplit(\"__\", 1)[1]\n",
    "    return param_name\n",
    "\n",
    "\n",
    "cv_results = cv_results.rename(shorten_param, axis=1)\n",
    "cv_results"
   ]
  },
  {
   "cell_type": "markdown",
   "id": "cd1f60e6",
   "metadata": {},
   "source": [
    "With only **2 parameters**, we might want to **visualize the grid-search** as a\n",
    "**heatmap**. We need to transform our `cv_results` into a dataframe where:\n",
    "\n",
    "- the **rows** will correspond to the **learning-rate** values;\n",
    "- the **columns** will correspond to the **maximum number of leaves**;\n",
    "- the **content** of the dataframe will be the **mean test scores**."
   ]
  },
  {
   "cell_type": "code",
   "execution_count": 18,
   "id": "ed29418c",
   "metadata": {},
   "outputs": [
    {
     "data": {
      "text/html": [
       "<div>\n",
       "<style scoped>\n",
       "    .dataframe tbody tr th:only-of-type {\n",
       "        vertical-align: middle;\n",
       "    }\n",
       "\n",
       "    .dataframe tbody tr th {\n",
       "        vertical-align: top;\n",
       "    }\n",
       "\n",
       "    .dataframe thead th {\n",
       "        text-align: right;\n",
       "    }\n",
       "</style>\n",
       "<table border=\"1\" class=\"dataframe\">\n",
       "  <thead>\n",
       "    <tr style=\"text-align: right;\">\n",
       "      <th>max_leaf_nodes</th>\n",
       "      <th>3</th>\n",
       "      <th>10</th>\n",
       "      <th>30</th>\n",
       "      <th>100</th>\n",
       "    </tr>\n",
       "    <tr>\n",
       "      <th>learning_rate</th>\n",
       "      <th></th>\n",
       "      <th></th>\n",
       "      <th></th>\n",
       "      <th></th>\n",
       "    </tr>\n",
       "  </thead>\n",
       "  <tbody>\n",
       "    <tr>\n",
       "      <th>0.05</th>\n",
       "      <td>0.827196</td>\n",
       "      <td>0.862275</td>\n",
       "      <td>0.867517</td>\n",
       "      <td>0.865524</td>\n",
       "    </tr>\n",
       "    <tr>\n",
       "      <th>0.10</th>\n",
       "      <td>0.853266</td>\n",
       "      <td>0.866725</td>\n",
       "      <td>0.868063</td>\n",
       "      <td>0.864541</td>\n",
       "    </tr>\n",
       "    <tr>\n",
       "      <th>0.50</th>\n",
       "      <td>0.865606</td>\n",
       "      <td>0.866179</td>\n",
       "      <td>0.866015</td>\n",
       "      <td>0.859381</td>\n",
       "    </tr>\n",
       "    <tr>\n",
       "      <th>1.00</th>\n",
       "      <td>0.861784</td>\n",
       "      <td>0.860364</td>\n",
       "      <td>0.852857</td>\n",
       "      <td>0.842756</td>\n",
       "    </tr>\n",
       "    <tr>\n",
       "      <th>5.00</th>\n",
       "      <td>0.283476</td>\n",
       "      <td>0.527527</td>\n",
       "      <td>0.637871</td>\n",
       "      <td>0.745515</td>\n",
       "    </tr>\n",
       "  </tbody>\n",
       "</table>\n",
       "</div>"
      ],
      "text/plain": [
       "max_leaf_nodes       3         10        30        100\n",
       "learning_rate                                         \n",
       "0.05            0.827196  0.862275  0.867517  0.865524\n",
       "0.10            0.853266  0.866725  0.868063  0.864541\n",
       "0.50            0.865606  0.866179  0.866015  0.859381\n",
       "1.00            0.861784  0.860364  0.852857  0.842756\n",
       "5.00            0.283476  0.527527  0.637871  0.745515"
      ]
     },
     "execution_count": 18,
     "metadata": {},
     "output_type": "execute_result"
    }
   ],
   "source": [
    "pivoted_cv_results = cv_results.pivot_table(\n",
    "    values=\"mean_test_score\", index=[\"learning_rate\"],\n",
    "    columns=[\"max_leaf_nodes\"])\n",
    "\n",
    "pivoted_cv_results"
   ]
  },
  {
   "cell_type": "markdown",
   "id": "388a2850",
   "metadata": {},
   "source": [
    "We can use a **heatmap representation** to show the above dataframe visually."
   ]
  },
  {
   "cell_type": "code",
   "execution_count": 19,
   "id": "9e6db035",
   "metadata": {},
   "outputs": [
    {
     "data": {
      "image/png": "[encoded data removed]",
      "text/plain": [
       "<Figure size 432x288 with 2 Axes>"
      ]
     },
     "metadata": {
      "needs_background": "light"
     },
     "output_type": "display_data"
    }
   ],
   "source": [
    "import seaborn as sns\n",
    "\n",
    "ax = sns.heatmap(pivoted_cv_results, annot=True, cmap=\"YlGnBu\", vmin=0.7,\n",
    "                 vmax=0.9)\n",
    "ax.invert_yaxis()"
   ]
  },
  {
   "cell_type": "markdown",
   "id": "bbb13f1d",
   "metadata": {},
   "source": [
    "The above tables highlights the following things:\n",
    "\n",
    "* for **too high values of `learning_rate`**, the **statistical performance of the\n",
    "  model is degraded** and adjusting the value of `max_leaf_nodes` cannot fix\n",
    "  that problem;\n",
    "* outside of this pathological region, we observe that the **optimal choice\n",
    "  of `max_leaf_nodes` depends on the value of `learning_rate`**;\n",
    "* in particular, we observe a **\"diagonal\" of good models** with an accuracy\n",
    "  close to the maximal of 0.87: when the value of `max_leaf_nodes` is\n",
    "  increased, one should increase the value of `learning_rate` accordingly\n",
    "  to preserve a good accuracy.\n",
    "\n",
    "The precise meaning of those two parameters will be explained in a later\n",
    "notebook.\n",
    "\n",
    "For now we will note that, in general, **there is no unique optimal parameter\n",
    "setting**: 6 models out of the 16 parameter configuration reach the maximal\n",
    "accuracy (up to small random fluctuations caused by the sampling of the\n",
    "training set)."
   ]
  },
  {
   "cell_type": "markdown",
   "id": "d7b2a8a6",
   "metadata": {},
   "source": [
    "In this notebook we have seen:\n",
    "\n",
    "* how to **optimize the hyperparameters** of a predictive model via a\n",
    "  **grid-search**;\n",
    "* that **searching for more than two hyperparamters is too costly**;\n",
    "* that a **grid-search does not necessarily find an optimal solution**."
   ]
  }
 ],
 "metadata": {
  "jupytext": {
   "cell_metadata_filter": "-all",
   "main_language": "python",
   "notebook_metadata_filter": "-all"
  },
  "kernelspec": {
   "display_name": "Python 3 (ipykernel)",
   "language": "python",
   "name": "python3"
  },
  "language_info": {
   "codemirror_mode": {
    "name": "ipython",
    "version": 3
   },
   "file_extension": ".py",
   "mimetype": "text/x-python",
   "name": "python",
   "nbconvert_exporter": "python",
   "pygments_lexer": "ipython3",
   "version": "3.9.7"
  },
  "nbreset": "https://github.com/INRIA/scikit-learn-mooc/raw/master/notebooks/parameter_tuning_grid_search.ipynb"
 },
 "nbformat": 4,
 "nbformat_minor": 5
}
