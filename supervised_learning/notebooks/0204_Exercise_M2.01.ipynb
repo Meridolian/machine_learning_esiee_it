{
 "cells": [
  {
   "cell_type": "markdown",
   "id": "67054445",
   "metadata": {},
   "source": [
    "# 📝 Exercise M2.01\n",
    "\n",
    "The aim of this exercise is to make the following experiments:\n",
    "\n",
    "* train and test a support vector machine classifier through\n",
    "  cross-validation;\n",
    "* study the effect of the parameter gamma of this classifier using a\n",
    "  validation curve;\n",
    "* use a learning curve to determine the usefulness of adding new\n",
    "  samples in the dataset when building a classifier.\n",
    "\n",
    "To make these experiments we will first load the blood transfusion dataset."
   ]
  },
  {
   "cell_type": "markdown",
   "id": "20ba6d33",
   "metadata": {},
   "source": [
    "<div class=\"admonition note alert alert-info\">\n",
    "<p class=\"first admonition-title\" style=\"font-weight: bold;\">Note</p>\n",
    "<p class=\"last\">If you want a deeper overview regarding this dataset, you can refer to the\n",
    "Appendix - Datasets description section at the end of this MOOC.</p>\n",
    "</div>"
   ]
  },
  {
   "cell_type": "code",
   "execution_count": 1,
   "id": "614bc254",
   "metadata": {},
   "outputs": [],
   "source": [
    "import pandas as pd\n",
    "\n",
    "blood_transfusion = pd.read_csv(\"../datasets/blood_transfusion.csv\")\n",
    "data = blood_transfusion.drop(columns=\"Class\")\n",
    "target = blood_transfusion[\"Class\"]"
   ]
  },
  {
   "cell_type": "markdown",
   "id": "ed660652",
   "metadata": {},
   "source": [
    "We will use a support vector machine classifier (SVM). In its most simple\n",
    "form, a SVM classifier is a linear classifier behaving similarly to a\n",
    "logistic regression. Indeed, the optimization used to find the optimal\n",
    "weights of the linear model are different but we don't need to know these\n",
    "details for the exercise.\n",
    "\n",
    "Also, this classifier can become more flexible/expressive by using a\n",
    "so-called kernel that makes the model become non-linear. Again, no requirement\n",
    "regarding the mathematics is required to accomplish this exercise.\n",
    "\n",
    "We will use an RBF kernel where a parameter `gamma` allows to tune the\n",
    "flexibility of the model.\n",
    "\n",
    "First let's create a predictive pipeline made of:\n",
    "\n",
    "* a [`sklearn.preprocessing.StandardScaler`](https://scikit-learn.org/stable/modules/generated/sklearn.preprocessing.StandardScaler.html)\n",
    "  with default parameter;\n",
    "* a [`sklearn.svm.SVC`](https://scikit-learn.org/stable/modules/generated/sklearn.svm.SVC.html)\n",
    "  where the parameter `kernel` could be set to `\"rbf\"`. Note that this is the\n",
    "  default."
   ]
  },
  {
   "cell_type": "code",
   "execution_count": 11,
   "id": "5d2473ce",
   "metadata": {},
   "outputs": [],
   "source": [
    "from sklearn.preprocessing import StandardScaler\n",
    "from sklearn.svm import SVC\n",
    "from sklearn.pipeline import make_pipeline\n",
    "\n",
    "model = make_pipeline(StandardScaler(), SVC())"
   ]
  },
  {
   "cell_type": "markdown",
   "id": "53aedfc4",
   "metadata": {},
   "source": [
    "Evaluate the generalization performance of your model by cross-validation with a\n",
    "`ShuffleSplit` scheme. Thus, you can use\n",
    "[`sklearn.model_selection.cross_validate`](https://scikit-learn.org/stable/modules/generated/sklearn.model_selection.cross_validate.html)\n",
    "and pass a [`sklearn.model_selection.ShuffleSplit`](https://scikit-learn.org/stable/modules/generated/sklearn.model_selection.ShuffleSplit.html)\n",
    "to the `cv` parameter. Only fix the `random_state=0` in the `ShuffleSplit`\n",
    "and let the other parameters to the default."
   ]
  },
  {
   "cell_type": "code",
   "execution_count": 12,
   "id": "d73557a1",
   "metadata": {},
   "outputs": [],
   "source": [
    "from sklearn.model_selection import cross_validate\n",
    "from sklearn.model_selection import ShuffleSplit\n",
    "\n",
    "cv = ShuffleSplit(random_state=0)\n",
    "cv_results = cross_validate(model, data, target, cv=cv)"
   ]
  },
  {
   "cell_type": "markdown",
   "id": "2ffd62d4",
   "metadata": {},
   "source": [
    "As previously mentioned, the parameter `gamma` is one of the parameters\n",
    "controlling under/over-fitting in support vector machine with an RBF kernel.\n",
    "\n",
    "Evaluate the effect of the parameter `gamma` by using the\n",
    "[`sklearn.model_selection.validation_curve`](https://scikit-learn.org/stable/modules/generated/sklearn.model_selection.validation_curve.html) function.\n",
    "You can leave the default `scoring=None` which is equivalent to\n",
    "`scoring=\"accuracy\"` for classification problems. You can vary `gamma`\n",
    "between `10e-3` and `10e2` by generating samples on a logarithmic scale\n",
    "with the help of `np.logspace(-3, 2, num=30)`.\n",
    "\n",
    "Since we are manipulating a `Pipeline` the parameter name will be set to\n",
    "`svc__gamma` instead of only `gamma`. You can retrieve the parameter name\n",
    "using `model.get_params().keys()`. We will go more into detail regarding\n",
    "accessing and setting hyperparameter in the next section."
   ]
  },
  {
   "cell_type": "code",
   "execution_count": 14,
   "id": "5352c30f",
   "metadata": {},
   "outputs": [
    {
     "name": "stdout",
     "output_type": "stream",
     "text": [
      "CPU times: user 4.54 s, sys: 0 ns, total: 4.54 s\n",
      "Wall time: 4.53 s\n"
     ]
    }
   ],
   "source": [
    "%%time\n",
    "from sklearn.model_selection import validation_curve\n",
    "import numpy as np\n",
    "\n",
    "gamma = np.logspace(-1, 1, num=21)\n",
    "train_scores, test_scores = validation_curve(model, data, target, param_name=\"svc__gamma\", param_range=gamma, cv=cv)\n",
    "train_errors, test_errors = -train_scores, -test_scores"
   ]
  },
  {
   "cell_type": "markdown",
   "id": "e8ac4814",
   "metadata": {},
   "source": [
    "Plot the validation curve for the train and test scores."
   ]
  },
  {
   "cell_type": "code",
   "execution_count": 16,
   "id": "f7f313df",
   "metadata": {},
   "outputs": [
    {
     "data": {
      "image/png": "[encoded data removed]",
      "text/plain": [
       "<Figure size 432x288 with 1 Axes>"
      ]
     },
     "metadata": {
      "needs_background": "light"
     },
     "output_type": "display_data"
    }
   ],
   "source": [
    "import matplotlib.pyplot as plt\n",
    "\n",
    "plt.plot(gamma, train_errors.mean(axis=1), label=\"Training error\")\n",
    "plt.plot(gamma, test_errors.mean(axis=1), label=\"Testing error\")\n",
    "plt.legend()\n",
    "\n",
    "plt.xlabel(\"Maximum depth of decision tree\")\n",
    "plt.ylabel(\"Mean absolute error (k$)\")\n",
    "_ = plt.title(\"Validation curve for decision tree\")"
   ]
  },
  {
   "cell_type": "markdown",
   "id": "6b92c971",
   "metadata": {},
   "source": [
    "Now, you can perform an analysis to check whether adding new samples to the\n",
    "dataset could help our model to better generalize. Compute the learning curve\n",
    "(using [`sklearn.model_selection.learning_curve`](https://scikit-learn.org/stable/modules/generated/sklearn.model_selection.learning_curve.html))\n",
    "by computing the train and test scores for different training dataset size.\n",
    "Plot the train and test scores with respect to the number of samples."
   ]
  },
  {
   "cell_type": "code",
   "execution_count": 17,
   "id": "908c33dd",
   "metadata": {},
   "outputs": [
    {
     "ename": "SyntaxError",
     "evalue": "invalid syntax (2809672982.py, line 5)",
     "output_type": "error",
     "traceback": [
      "\u001b[0;36m  Input \u001b[0;32mIn [17]\u001b[0;36m\u001b[0m\n\u001b[0;31m    curve_results =\u001b[0m\n\u001b[0m                    ^\u001b[0m\n\u001b[0;31mSyntaxError\u001b[0m\u001b[0;31m:\u001b[0m invalid syntax\n"
     ]
    }
   ],
   "source": [
    "from sklearn.model_selection import learning_curve\n",
    "\n",
    "train_sizes = np.linspace(0.1, 1.0, num=5, endpoint=True)\n",
    "model2 = make_pipeline(StandardScaler(), SVC(gamma=1.))\n",
    "curve_results = learning_curve(model, data, target, )\n"
   ]
  },
  {
   "cell_type": "code",
   "execution_count": null,
   "id": "7f976006",
   "metadata": {},
   "outputs": [],
   "source": [
    "train_scores, test_scores = validation_curve(model, data, target, param_name=\"svc__gamma\", param_range=gamma, cv=cv)\n",
    "train_errors, test_errors = -train_scores, -test_scores"
   ]
  }
 ],
 "metadata": {
  "jupytext": {
   "main_language": "python"
  },
  "kernelspec": {
   "display_name": "Python 3 (ipykernel)",
   "language": "python",
   "name": "python3"
  },
  "language_info": {
   "codemirror_mode": {
    "name": "ipython",
    "version": 3
   },
   "file_extension": ".py",
   "mimetype": "text/x-python",
   "name": "python",
   "nbconvert_exporter": "python",
   "pygments_lexer": "ipython3",
   "version": "3.9.7"
  }
 },
 "nbformat": 4,
 "nbformat_minor": 5
}
