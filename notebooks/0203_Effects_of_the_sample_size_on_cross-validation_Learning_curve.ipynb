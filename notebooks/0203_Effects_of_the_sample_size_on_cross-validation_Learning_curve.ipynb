{
 "cells": [
  {
   "cell_type": "markdown",
   "id": "1bc6f9cc",
   "metadata": {},
   "source": [
    "# Effect of the sample size in cross-validation\n",
    "\n",
    "In the previous notebook, we presented the general cross-validation framework\n",
    "and how to assess if a predictive model is underfiting, overfitting, or\n",
    "generalizing. Besides these aspects, it is also important to understand how\n",
    "the different **errors** are **influenced by** the **sample size** via the **learning curve**.\n",
    "\n",
    "In this notebook, we will show this aspect by looking at the variability of\n",
    "the different errors.\n",
    "\n",
    "Let's first load the data and create the same model as in the previous\n",
    "notebook."
   ]
  },
  {
   "cell_type": "code",
   "execution_count": 1,
   "id": "08ebcf74",
   "metadata": {},
   "outputs": [],
   "source": [
    "from sklearn.datasets import fetch_california_housing\n",
    "\n",
    "housing = fetch_california_housing(as_frame=True)\n",
    "data, target = housing.data, housing.target\n",
    "target *= 100  # rescale the target in k$"
   ]
  },
  {
   "cell_type": "markdown",
   "id": "c12f326a",
   "metadata": {},
   "source": [
    "<div class=\"admonition note alert alert-info\">\n",
    "<p class=\"first admonition-title\" style=\"font-weight: bold;\">Note</p>\n",
    "<p class=\"last\">If you want a deeper overview regarding this dataset, you can refer to the\n",
    "Appendix - Datasets description section at the end of this Course.</p>\n",
    "</div>"
   ]
  },
  {
   "cell_type": "code",
   "execution_count": 2,
   "id": "3599d836",
   "metadata": {},
   "outputs": [],
   "source": [
    "from sklearn.tree import DecisionTreeRegressor\n",
    "\n",
    "regressor = DecisionTreeRegressor(max_depth=10)"
   ]
  },
  {
   "cell_type": "markdown",
   "id": "1d875a5d",
   "metadata": {},
   "source": [
    "## Learning curve\n",
    "\n",
    "To understand the impact of the number of samples available for training on\n",
    "the statistical performance of a predictive model, it is possible to\n",
    "synthetically reduce the number of samples used to train the predictive model\n",
    "and check the training and testing errors.\n",
    "\n",
    "Therefore, we can vary the number of samples in the training set and repeat\n",
    "the experiment. The training and testing scores can be plotted similarly to\n",
    "the validation curve, but instead of varying a hyperparameter, we **vary the\n",
    "number of training samples**. This curve is called the **learning curve**.\n",
    "\n",
    "It gives **information regarding the benefit of adding new training samples**\n",
    "to **improve a model's statistical performance**.\n",
    "\n",
    "Let's **compute the learning curve** for a **decision tree** and **vary the\n",
    "proportion of the training set from 10% to 100%**."
   ]
  },
  {
   "cell_type": "code",
   "execution_count": 3,
   "id": "3849d00f",
   "metadata": {},
   "outputs": [
    {
     "data": {
      "text/plain": [
       "array([0.1  , 0.325, 0.55 , 0.775, 1.   ])"
      ]
     },
     "execution_count": 3,
     "metadata": {},
     "output_type": "execute_result"
    }
   ],
   "source": [
    "import numpy as np\n",
    "train_sizes = np.linspace(0.1, 1.0, num=5, endpoint=True)\n",
    "train_sizes"
   ]
  },
  {
   "cell_type": "markdown",
   "id": "85e94505",
   "metadata": {},
   "source": [
    "We will use a **`ShuffleSplit` cross-validation** to **assess performance** of our predictive model for each sample size."
   ]
  },
  {
   "cell_type": "code",
   "execution_count": 4,
   "id": "dbdbb0b8",
   "metadata": {},
   "outputs": [],
   "source": [
    "from sklearn.model_selection import ShuffleSplit\n",
    "\n",
    "cv = ShuffleSplit(n_splits=30, test_size=0.2)"
   ]
  },
  {
   "cell_type": "markdown",
   "id": "6ffeb706",
   "metadata": {},
   "source": [
    "Now, we are all set to carry out the experiment."
   ]
  },
  {
   "cell_type": "code",
   "execution_count": 5,
   "id": "10046cef",
   "metadata": {},
   "outputs": [],
   "source": [
    "from sklearn.model_selection import learning_curve\n",
    "\n",
    "results = learning_curve(\n",
    "    regressor, data, target, train_sizes=train_sizes, cv=cv,\n",
    "    scoring=\"neg_mean_absolute_error\", n_jobs=2)\n",
    "train_size, train_scores, test_scores = results[:3]\n",
    "# Convert the scores into errors\n",
    "train_errors, test_errors = -train_scores, -test_scores"
   ]
  },
  {
   "cell_type": "markdown",
   "id": "929322e2",
   "metadata": {},
   "source": [
    "Now, we can **plot the curve**."
   ]
  },
  {
   "cell_type": "code",
   "execution_count": 6,
   "id": "9f865ef5",
   "metadata": {},
   "outputs": [
    {
     "data": {
      "image/png": "[encoded data removed]",
      "text/plain": [
       "<Figure size 432x288 with 1 Axes>"
      ]
     },
     "metadata": {
      "needs_background": "light"
     },
     "output_type": "display_data"
    }
   ],
   "source": [
    "import matplotlib.pyplot as plt\n",
    "\n",
    "plt.errorbar(train_size, train_errors.mean(axis=1),\n",
    "             yerr=train_errors.std(axis=1), label=\"Training error\")\n",
    "plt.errorbar(train_size, test_errors.mean(axis=1),\n",
    "             yerr=test_errors.std(axis=1), label=\"Test error\")\n",
    "plt.legend()\n",
    "\n",
    "plt.xscale(\"log\")\n",
    "plt.xlabel(\"Number of samples in the training set\")\n",
    "plt.ylabel(\"Mean absolute error (k$)\")\n",
    "_ = plt.title(\"Learning curve for decision tree\")"
   ]
  },
  {
   "cell_type": "markdown",
   "id": "0e8cb53b",
   "metadata": {},
   "source": [
    "Looking at the **training error** alone, we see that we get an error of $0k. It\n",
    "means that the trained model (i.e. decision tree) is clearly **overfitting** the\n",
    "training data.\n",
    "\n",
    "Looking at the **test error** alone, we observe that the more samples are\n",
    "added into the training set, the lower the test error becomes. Also, we\n",
    "are **searching for the plateau of the test error** for which there is **no\n",
    "benefit to adding samples anymore** or assessing the potential gain of adding\n",
    "more samples to the training set.\n",
    "\n",
    "If we **reach a plateau** and **adding new samples to the training set** does **not\n",
    "reduce the test error**, we might **have reached** the **Bayes error rate** for the **given model**. Using a **more complex model** might be the only possibility to\n",
    "**reduce the test error further**."
   ]
  },
  {
   "cell_type": "markdown",
   "id": "76914c34",
   "metadata": {},
   "source": [
    "## Summary"
   ]
  },
  {
   "cell_type": "markdown",
   "id": "022245e4",
   "metadata": {},
   "source": [
    "In the notebook, we learned:\n",
    "\n",
    "* the **influence of the sample size** of a dataset, especially on the\n",
    "  **variability of the errors** reported when running the **cross-validation**;\n",
    "* about the **learning curve** that is a **visual representation of the capacity\n",
    "  of a model to improve by adding new samples to the training set**."
   ]
  },
  {
   "cell_type": "code",
   "execution_count": null,
   "id": "383ab6b9",
   "metadata": {},
   "outputs": [],
   "source": []
  }
 ],
 "metadata": {
  "jupytext": {
   "cell_metadata_filter": "-all",
   "main_language": "python",
   "notebook_metadata_filter": "-all"
  },
  "kernelspec": {
   "display_name": "Python 3 (ipykernel)",
   "language": "python",
   "name": "python3"
  },
  "language_info": {
   "codemirror_mode": {
    "name": "ipython",
    "version": 3
   },
   "file_extension": ".py",
   "mimetype": "text/x-python",
   "name": "python",
   "nbconvert_exporter": "python",
   "pygments_lexer": "ipython3",
   "version": "3.8.0"
  },
  "nbreset": "https://github.com/INRIA/scikit-learn-mooc/raw/master/notebooks/cross_validation_learning_curve.ipynb"
 },
 "nbformat": 4,
 "nbformat_minor": 5
}
