{
 "cells": [
  {
   "cell_type": "markdown",
   "id": "5b482919",
   "metadata": {},
   "source": [
    "# Using numerical and categorical variables together\n",
    "\n",
    "In the previous notebooks, we showed the required preprocessing to apply\n",
    "when **dealing with numerical and categorical variables**. However, we decoupled\n",
    "the process to treat each type individually. In this notebook, we will show\n",
    "how to **combine** these preprocessing steps.\n",
    "\n",
    "We will first load the entire **adult census dataset**."
   ]
  },
  {
   "cell_type": "code",
   "execution_count": 1,
   "id": "5d844fa2",
   "metadata": {},
   "outputs": [],
   "source": [
    "import pandas as pd\n",
    "\n",
    "adult_census = pd.read_csv(\"../datasets/adult-census_valid.csv\")\n",
    "# drop the duplicated column `\"education-num\"` as stated in the first notebook\n",
    "adult_census = adult_census.drop(columns=\"education-num\")\n",
    "\n",
    "target_name = \"class\"\n",
    "target = adult_census[target_name]\n",
    "\n",
    "data = adult_census.drop(columns=[target_name])"
   ]
  },
  {
   "cell_type": "markdown",
   "id": "f6671fd3",
   "metadata": {},
   "source": [
    "## Selection based on data types\n",
    "\n",
    "We will separate categorical and numerical variables using their data\n",
    "types to identify them, as we saw previously that `object` corresponds\n",
    "to categorical columns (strings). We make use of **`make_column_selector`\n",
    "helper** to select the corresponding columns."
   ]
  },
  {
   "cell_type": "code",
   "execution_count": 2,
   "id": "efc45fa6",
   "metadata": {},
   "outputs": [],
   "source": [
    "from sklearn.compose import make_column_selector as selector\n",
    "\n",
    "numerical_columns_selector = selector(dtype_exclude=object)\n",
    "categorical_columns_selector = selector(dtype_include=object)\n",
    "\n",
    "numerical_columns = numerical_columns_selector(data)\n",
    "categorical_columns = categorical_columns_selector(data)"
   ]
  },
  {
   "cell_type": "markdown",
   "id": "6666238a",
   "metadata": {},
   "source": [
    "## Dispatch columns to their specific processors\n",
    "\n",
    "In the previous sections, we saw that we need to treat data differently\n",
    "depending on their nature (i.e. numerical or categorical).\n",
    "\n",
    "Scikit-learn provides a **`ColumnTransformer` class** which **sends specific\n",
    "columns to specific transformers**, making it easy to fit a single predictive\n",
    "model on a dataset that combines both kinds of variables together\n",
    "(**heterogeneously typed tabular data**).\n",
    "\n",
    "We first define the columns depending on their data type:\n",
    "\n",
    "* **one-hot encoding** will be applied to categorical columns. Besides, we\n",
    "  use `handle_unknown=\"ignore\"` to solve the potential issues due to rare\n",
    "  categories.\n",
    "* **numerical scaling** numerical features which will be standardized.\n",
    "\n",
    "Now, we create our **`ColumnTransfomer`** by **specifying three values in each tuple**:\n",
    "the **preprocessor name**, the **transformer**, and the **columns**.\n",
    "First, let's create the preprocessors for the numerical and categorical\n",
    "parts."
   ]
  },
  {
   "cell_type": "code",
   "execution_count": 3,
   "id": "ed10c351",
   "metadata": {},
   "outputs": [],
   "source": [
    "from sklearn.preprocessing import OneHotEncoder, StandardScaler\n",
    "\n",
    "categorical_preprocessor = OneHotEncoder(handle_unknown=\"ignore\")\n",
    "numerical_preprocessor = StandardScaler()"
   ]
  },
  {
   "cell_type": "markdown",
   "id": "558aafe5",
   "metadata": {},
   "source": [
    "Now, we **create the transformer** and **associate each of these preprocessors\n",
    "with their respective columns**."
   ]
  },
  {
   "cell_type": "code",
   "execution_count": 4,
   "id": "bbec51ed",
   "metadata": {},
   "outputs": [],
   "source": [
    "from sklearn.compose import ColumnTransformer\n",
    "\n",
    "preprocessor = ColumnTransformer([\n",
    "    ('one-hot-encoder', categorical_preprocessor, categorical_columns),\n",
    "    ('standard-scaler', numerical_preprocessor, numerical_columns)])"
   ]
  },
  {
   "cell_type": "markdown",
   "id": "8024bb12",
   "metadata": {},
   "source": [
    "Graphically the structure of a\n",
    "`ColumnTransformer`:\n",
    "\n",
    "![columntransformer diagram](../figures/api_diagram-columntransformer.svg)\n",
    "\n",
    "A `ColumnTransformer` does the following:\n",
    "\n",
    "* It **splits the columns** of the original dataset based on the column names\n",
    "  or indices provided. We will obtain as many subsets as the number of\n",
    "  transformers passed into the `ColumnTransformer`.\n",
    "* It **transforms each subsets**. A specific transformer is applied to\n",
    "  each subset: it will internally call `fit_transform` or `transform`. The\n",
    "  output of this step is a set of transformed datasets.\n",
    "* It then **concatenate the transformed datasets** into a single dataset.\n",
    "\n",
    "The important thing is that `ColumnTransformer` is like any other\n",
    "scikit-learn transformer. In particular it can be **combined** with a classifier\n",
    "in a **`Pipeline`**:"
   ]
  },
  {
   "cell_type": "code",
   "execution_count": 5,
   "id": "36ad3657",
   "metadata": {},
   "outputs": [],
   "source": [
    "from sklearn.linear_model import LogisticRegression\n",
    "from sklearn.pipeline import make_pipeline\n",
    "\n",
    "model = make_pipeline(preprocessor, LogisticRegression(max_iter=500))"
   ]
  },
  {
   "cell_type": "markdown",
   "id": "d695aadf",
   "metadata": {},
   "source": [
    "We can display an interactive diagram with the following command:"
   ]
  },
  {
   "cell_type": "code",
   "execution_count": 6,
   "id": "8070bc2c",
   "metadata": {},
   "outputs": [
    {
     "data": {
      "text/html": [
       "<style>#sk-a6057e7e-1eb4-47c3-ba8d-a2729e29251a {color: black;background-color: white;}#sk-a6057e7e-1eb4-47c3-ba8d-a2729e29251a pre{padding: 0;}#sk-a6057e7e-1eb4-47c3-ba8d-a2729e29251a div.sk-toggleable {background-color: white;}#sk-a6057e7e-1eb4-47c3-ba8d-a2729e29251a label.sk-toggleable__label {cursor: pointer;display: block;width: 100%;margin-bottom: 0;padding: 0.3em;box-sizing: border-box;text-align: center;}#sk-a6057e7e-1eb4-47c3-ba8d-a2729e29251a label.sk-toggleable__label-arrow:before {content: \"▸\";float: left;margin-right: 0.25em;color: #696969;}#sk-a6057e7e-1eb4-47c3-ba8d-a2729e29251a label.sk-toggleable__label-arrow:hover:before {color: black;}#sk-a6057e7e-1eb4-47c3-ba8d-a2729e29251a div.sk-estimator:hover label.sk-toggleable__label-arrow:before {color: black;}#sk-a6057e7e-1eb4-47c3-ba8d-a2729e29251a div.sk-toggleable__content {max-height: 0;max-width: 0;overflow: hidden;text-align: left;background-color: #f0f8ff;}#sk-a6057e7e-1eb4-47c3-ba8d-a2729e29251a div.sk-toggleable__content pre {margin: 0.2em;color: black;border-radius: 0.25em;background-color: #f0f8ff;}#sk-a6057e7e-1eb4-47c3-ba8d-a2729e29251a input.sk-toggleable__control:checked~div.sk-toggleable__content {max-height: 200px;max-width: 100%;overflow: auto;}#sk-a6057e7e-1eb4-47c3-ba8d-a2729e29251a input.sk-toggleable__control:checked~label.sk-toggleable__label-arrow:before {content: \"▾\";}#sk-a6057e7e-1eb4-47c3-ba8d-a2729e29251a div.sk-estimator input.sk-toggleable__control:checked~label.sk-toggleable__label {background-color: #d4ebff;}#sk-a6057e7e-1eb4-47c3-ba8d-a2729e29251a div.sk-label input.sk-toggleable__control:checked~label.sk-toggleable__label {background-color: #d4ebff;}#sk-a6057e7e-1eb4-47c3-ba8d-a2729e29251a input.sk-hidden--visually {border: 0;clip: rect(1px 1px 1px 1px);clip: rect(1px, 1px, 1px, 1px);height: 1px;margin: -1px;overflow: hidden;padding: 0;position: absolute;width: 1px;}#sk-a6057e7e-1eb4-47c3-ba8d-a2729e29251a div.sk-estimator {font-family: monospace;background-color: #f0f8ff;border: 1px dotted black;border-radius: 0.25em;box-sizing: border-box;margin-bottom: 0.5em;}#sk-a6057e7e-1eb4-47c3-ba8d-a2729e29251a div.sk-estimator:hover {background-color: #d4ebff;}#sk-a6057e7e-1eb4-47c3-ba8d-a2729e29251a div.sk-parallel-item::after {content: \"\";width: 100%;border-bottom: 1px solid gray;flex-grow: 1;}#sk-a6057e7e-1eb4-47c3-ba8d-a2729e29251a div.sk-label:hover label.sk-toggleable__label {background-color: #d4ebff;}#sk-a6057e7e-1eb4-47c3-ba8d-a2729e29251a div.sk-serial::before {content: \"\";position: absolute;border-left: 1px solid gray;box-sizing: border-box;top: 2em;bottom: 0;left: 50%;}#sk-a6057e7e-1eb4-47c3-ba8d-a2729e29251a div.sk-serial {display: flex;flex-direction: column;align-items: center;background-color: white;padding-right: 0.2em;padding-left: 0.2em;}#sk-a6057e7e-1eb4-47c3-ba8d-a2729e29251a div.sk-item {z-index: 1;}#sk-a6057e7e-1eb4-47c3-ba8d-a2729e29251a div.sk-parallel {display: flex;align-items: stretch;justify-content: center;background-color: white;}#sk-a6057e7e-1eb4-47c3-ba8d-a2729e29251a div.sk-parallel::before {content: \"\";position: absolute;border-left: 1px solid gray;box-sizing: border-box;top: 2em;bottom: 0;left: 50%;}#sk-a6057e7e-1eb4-47c3-ba8d-a2729e29251a div.sk-parallel-item {display: flex;flex-direction: column;position: relative;background-color: white;}#sk-a6057e7e-1eb4-47c3-ba8d-a2729e29251a div.sk-parallel-item:first-child::after {align-self: flex-end;width: 50%;}#sk-a6057e7e-1eb4-47c3-ba8d-a2729e29251a div.sk-parallel-item:last-child::after {align-self: flex-start;width: 50%;}#sk-a6057e7e-1eb4-47c3-ba8d-a2729e29251a div.sk-parallel-item:only-child::after {width: 0;}#sk-a6057e7e-1eb4-47c3-ba8d-a2729e29251a div.sk-dashed-wrapped {border: 1px dashed gray;margin: 0 0.4em 0.5em 0.4em;box-sizing: border-box;padding-bottom: 0.4em;background-color: white;position: relative;}#sk-a6057e7e-1eb4-47c3-ba8d-a2729e29251a div.sk-label label {font-family: monospace;font-weight: bold;background-color: white;display: inline-block;line-height: 1.2em;}#sk-a6057e7e-1eb4-47c3-ba8d-a2729e29251a div.sk-label-container {position: relative;z-index: 2;text-align: center;}#sk-a6057e7e-1eb4-47c3-ba8d-a2729e29251a div.sk-container {/* jupyter's `normalize.less` sets `[hidden] { display: none; }` but bootstrap.min.css set `[hidden] { display: none !important; }` so we also need the `!important` here to be able to override the default hidden behavior on the sphinx rendered scikit-learn.org. See: https://github.com/scikit-learn/scikit-learn/issues/21755 */display: inline-block !important;position: relative;}#sk-a6057e7e-1eb4-47c3-ba8d-a2729e29251a div.sk-text-repr-fallback {display: none;}</style><div id=\"sk-a6057e7e-1eb4-47c3-ba8d-a2729e29251a\" class=\"sk-top-container\"><div class=\"sk-text-repr-fallback\"><pre>Pipeline(steps=[(&#x27;columntransformer&#x27;,\n",
       "                 ColumnTransformer(transformers=[(&#x27;one-hot-encoder&#x27;,\n",
       "                                                  OneHotEncoder(handle_unknown=&#x27;ignore&#x27;),\n",
       "                                                  [&#x27;workclass&#x27;, &#x27;education&#x27;,\n",
       "                                                   &#x27;marital-status&#x27;,\n",
       "                                                   &#x27;occupation&#x27;, &#x27;relationship&#x27;,\n",
       "                                                   &#x27;sex&#x27;, &#x27;native-country&#x27;]),\n",
       "                                                 (&#x27;standard-scaler&#x27;,\n",
       "                                                  StandardScaler(),\n",
       "                                                  [&#x27;age&#x27;, &#x27;capital-gain&#x27;,\n",
       "                                                   &#x27;capital-loss&#x27;,\n",
       "                                                   &#x27;hours-per-week&#x27;])])),\n",
       "                (&#x27;logisticregression&#x27;, LogisticRegression(max_iter=500))])</pre><b>Please rerun this cell to show the HTML repr or trust the notebook.</b></div><div class=\"sk-container\" hidden><div class=\"sk-item sk-dashed-wrapped\"><div class=\"sk-label-container\"><div class=\"sk-label sk-toggleable\"><input class=\"sk-toggleable__control sk-hidden--visually\" id=\"e26015b7-01e7-4ca8-866c-8d4e97de97f5\" type=\"checkbox\" ><label for=\"e26015b7-01e7-4ca8-866c-8d4e97de97f5\" class=\"sk-toggleable__label sk-toggleable__label-arrow\">Pipeline</label><div class=\"sk-toggleable__content\"><pre>Pipeline(steps=[(&#x27;columntransformer&#x27;,\n",
       "                 ColumnTransformer(transformers=[(&#x27;one-hot-encoder&#x27;,\n",
       "                                                  OneHotEncoder(handle_unknown=&#x27;ignore&#x27;),\n",
       "                                                  [&#x27;workclass&#x27;, &#x27;education&#x27;,\n",
       "                                                   &#x27;marital-status&#x27;,\n",
       "                                                   &#x27;occupation&#x27;, &#x27;relationship&#x27;,\n",
       "                                                   &#x27;sex&#x27;, &#x27;native-country&#x27;]),\n",
       "                                                 (&#x27;standard-scaler&#x27;,\n",
       "                                                  StandardScaler(),\n",
       "                                                  [&#x27;age&#x27;, &#x27;capital-gain&#x27;,\n",
       "                                                   &#x27;capital-loss&#x27;,\n",
       "                                                   &#x27;hours-per-week&#x27;])])),\n",
       "                (&#x27;logisticregression&#x27;, LogisticRegression(max_iter=500))])</pre></div></div></div><div class=\"sk-serial\"><div class=\"sk-item sk-dashed-wrapped\"><div class=\"sk-label-container\"><div class=\"sk-label sk-toggleable\"><input class=\"sk-toggleable__control sk-hidden--visually\" id=\"c32823a5-635d-4872-acd2-c631bdbbfbc6\" type=\"checkbox\" ><label for=\"c32823a5-635d-4872-acd2-c631bdbbfbc6\" class=\"sk-toggleable__label sk-toggleable__label-arrow\">columntransformer: ColumnTransformer</label><div class=\"sk-toggleable__content\"><pre>ColumnTransformer(transformers=[(&#x27;one-hot-encoder&#x27;,\n",
       "                                 OneHotEncoder(handle_unknown=&#x27;ignore&#x27;),\n",
       "                                 [&#x27;workclass&#x27;, &#x27;education&#x27;, &#x27;marital-status&#x27;,\n",
       "                                  &#x27;occupation&#x27;, &#x27;relationship&#x27;, &#x27;sex&#x27;,\n",
       "                                  &#x27;native-country&#x27;]),\n",
       "                                (&#x27;standard-scaler&#x27;, StandardScaler(),\n",
       "                                 [&#x27;age&#x27;, &#x27;capital-gain&#x27;, &#x27;capital-loss&#x27;,\n",
       "                                  &#x27;hours-per-week&#x27;])])</pre></div></div></div><div class=\"sk-parallel\"><div class=\"sk-parallel-item\"><div class=\"sk-item\"><div class=\"sk-label-container\"><div class=\"sk-label sk-toggleable\"><input class=\"sk-toggleable__control sk-hidden--visually\" id=\"2e076db3-f1bd-444b-ac99-44272b1f8cba\" type=\"checkbox\" ><label for=\"2e076db3-f1bd-444b-ac99-44272b1f8cba\" class=\"sk-toggleable__label sk-toggleable__label-arrow\">one-hot-encoder</label><div class=\"sk-toggleable__content\"><pre>[&#x27;workclass&#x27;, &#x27;education&#x27;, &#x27;marital-status&#x27;, &#x27;occupation&#x27;, &#x27;relationship&#x27;, &#x27;sex&#x27;, &#x27;native-country&#x27;]</pre></div></div></div><div class=\"sk-serial\"><div class=\"sk-item\"><div class=\"sk-estimator sk-toggleable\"><input class=\"sk-toggleable__control sk-hidden--visually\" id=\"4129922b-393b-4bd6-a044-8fc819ea5539\" type=\"checkbox\" ><label for=\"4129922b-393b-4bd6-a044-8fc819ea5539\" class=\"sk-toggleable__label sk-toggleable__label-arrow\">OneHotEncoder</label><div class=\"sk-toggleable__content\"><pre>OneHotEncoder(handle_unknown=&#x27;ignore&#x27;)</pre></div></div></div></div></div></div><div class=\"sk-parallel-item\"><div class=\"sk-item\"><div class=\"sk-label-container\"><div class=\"sk-label sk-toggleable\"><input class=\"sk-toggleable__control sk-hidden--visually\" id=\"8ad8488f-d366-412c-bf0e-16e45d4d7be5\" type=\"checkbox\" ><label for=\"8ad8488f-d366-412c-bf0e-16e45d4d7be5\" class=\"sk-toggleable__label sk-toggleable__label-arrow\">standard-scaler</label><div class=\"sk-toggleable__content\"><pre>[&#x27;age&#x27;, &#x27;capital-gain&#x27;, &#x27;capital-loss&#x27;, &#x27;hours-per-week&#x27;]</pre></div></div></div><div class=\"sk-serial\"><div class=\"sk-item\"><div class=\"sk-estimator sk-toggleable\"><input class=\"sk-toggleable__control sk-hidden--visually\" id=\"fd10908a-52ad-4fbf-a57c-17eff5256965\" type=\"checkbox\" ><label for=\"fd10908a-52ad-4fbf-a57c-17eff5256965\" class=\"sk-toggleable__label sk-toggleable__label-arrow\">StandardScaler</label><div class=\"sk-toggleable__content\"><pre>StandardScaler()</pre></div></div></div></div></div></div></div></div><div class=\"sk-item\"><div class=\"sk-estimator sk-toggleable\"><input class=\"sk-toggleable__control sk-hidden--visually\" id=\"09a0ab1a-6739-4cd2-a762-6b739ca5720f\" type=\"checkbox\" ><label for=\"09a0ab1a-6739-4cd2-a762-6b739ca5720f\" class=\"sk-toggleable__label sk-toggleable__label-arrow\">LogisticRegression</label><div class=\"sk-toggleable__content\"><pre>LogisticRegression(max_iter=500)</pre></div></div></div></div></div></div></div>"
      ],
      "text/plain": [
       "Pipeline(steps=[('columntransformer',\n",
       "                 ColumnTransformer(transformers=[('one-hot-encoder',\n",
       "                                                  OneHotEncoder(handle_unknown='ignore'),\n",
       "                                                  ['workclass', 'education',\n",
       "                                                   'marital-status',\n",
       "                                                   'occupation', 'relationship',\n",
       "                                                   'sex', 'native-country']),\n",
       "                                                 ('standard-scaler',\n",
       "                                                  StandardScaler(),\n",
       "                                                  ['age', 'capital-gain',\n",
       "                                                   'capital-loss',\n",
       "                                                   'hours-per-week'])])),\n",
       "                ('logisticregression', LogisticRegression(max_iter=500))])"
      ]
     },
     "execution_count": 6,
     "metadata": {},
     "output_type": "execute_result"
    }
   ],
   "source": [
    "from sklearn import set_config\n",
    "set_config(display='diagram')\n",
    "model"
   ]
  },
  {
   "cell_type": "markdown",
   "id": "09bc81d2",
   "metadata": {},
   "source": [
    "The **final model** is more complex than the previous models but still follows\n",
    "the **same API** (the same set of methods that can be called by the user):\n",
    "\n",
    "- the **`fit`** method is called to preprocess the data and then train the\n",
    "  classifier of the preprocessed data;\n",
    "- the **`predict`** method makes predictions on new data;\n",
    "- the **`score`** method is used to predict on the test data and compare the\n",
    "  predictions to the expected test labels to compute the accuracy.\n",
    "\n",
    "Let's start by splitting our data into train and test sets."
   ]
  },
  {
   "cell_type": "code",
   "execution_count": 7,
   "id": "af75f750",
   "metadata": {},
   "outputs": [],
   "source": [
    "from sklearn.model_selection import train_test_split\n",
    "\n",
    "data_train, data_test, target_train, target_test = train_test_split(\n",
    "    data, target, random_state=42)"
   ]
  },
  {
   "cell_type": "markdown",
   "id": "84f76587",
   "metadata": {},
   "source": [
    "\n",
    "<div class=\"admonition caution alert alert-warning\">\n",
    "<p class=\"first admonition-title\" style=\"font-weight: bold;\">Caution!</p>\n",
    "<p class=\"last\">Be aware that we use <tt class=\"docutils literal\">train_test_split</tt> here for didactic purposes, to show\n",
    "the scikit-learn API.</p>\n",
    "</div>\n",
    "\n",
    "Now, we can train the model on the train set."
   ]
  },
  {
   "cell_type": "code",
   "execution_count": 8,
   "id": "048df152",
   "metadata": {},
   "outputs": [],
   "source": [
    "_ = model.fit(data_train, target_train)"
   ]
  },
  {
   "cell_type": "markdown",
   "id": "84d6434f",
   "metadata": {},
   "source": [
    "Then, we can send the raw dataset straight to the pipeline. Indeed, we do **not\n",
    "need to make any manual preprocessing (calling the `transform` or\n",
    "`fit_transform` methods)** as it is **automatically handled when calling the `predict`**\n",
    "method. As an example, we predict on the five first samples from the test\n",
    "set."
   ]
  },
  {
   "cell_type": "code",
   "execution_count": 9,
   "id": "b7d8440b",
   "metadata": {},
   "outputs": [
    {
     "data": {
      "text/html": [
       "<div>\n",
       "<style scoped>\n",
       "    .dataframe tbody tr th:only-of-type {\n",
       "        vertical-align: middle;\n",
       "    }\n",
       "\n",
       "    .dataframe tbody tr th {\n",
       "        vertical-align: top;\n",
       "    }\n",
       "\n",
       "    .dataframe thead th {\n",
       "        text-align: right;\n",
       "    }\n",
       "</style>\n",
       "<table border=\"1\" class=\"dataframe\">\n",
       "  <thead>\n",
       "    <tr style=\"text-align: right;\">\n",
       "      <th></th>\n",
       "      <th>age</th>\n",
       "      <th>workclass</th>\n",
       "      <th>education</th>\n",
       "      <th>marital-status</th>\n",
       "      <th>occupation</th>\n",
       "      <th>relationship</th>\n",
       "      <th>sex</th>\n",
       "      <th>capital-gain</th>\n",
       "      <th>capital-loss</th>\n",
       "      <th>hours-per-week</th>\n",
       "      <th>native-country</th>\n",
       "    </tr>\n",
       "  </thead>\n",
       "  <tbody>\n",
       "    <tr>\n",
       "      <th>7762</th>\n",
       "      <td>56</td>\n",
       "      <td>Private</td>\n",
       "      <td>HS-grad</td>\n",
       "      <td>Divorced</td>\n",
       "      <td>Other-service</td>\n",
       "      <td>Unmarried</td>\n",
       "      <td>Female</td>\n",
       "      <td>0</td>\n",
       "      <td>0</td>\n",
       "      <td>40</td>\n",
       "      <td>United-States</td>\n",
       "    </tr>\n",
       "    <tr>\n",
       "      <th>23881</th>\n",
       "      <td>25</td>\n",
       "      <td>Private</td>\n",
       "      <td>HS-grad</td>\n",
       "      <td>Married-civ-spouse</td>\n",
       "      <td>Transport-moving</td>\n",
       "      <td>Own-child</td>\n",
       "      <td>Male</td>\n",
       "      <td>0</td>\n",
       "      <td>0</td>\n",
       "      <td>40</td>\n",
       "      <td>United-States</td>\n",
       "    </tr>\n",
       "    <tr>\n",
       "      <th>30507</th>\n",
       "      <td>43</td>\n",
       "      <td>Private</td>\n",
       "      <td>Bachelors</td>\n",
       "      <td>Divorced</td>\n",
       "      <td>Prof-specialty</td>\n",
       "      <td>Not-in-family</td>\n",
       "      <td>Female</td>\n",
       "      <td>14344</td>\n",
       "      <td>0</td>\n",
       "      <td>40</td>\n",
       "      <td>United-States</td>\n",
       "    </tr>\n",
       "    <tr>\n",
       "      <th>28911</th>\n",
       "      <td>32</td>\n",
       "      <td>Private</td>\n",
       "      <td>HS-grad</td>\n",
       "      <td>Married-civ-spouse</td>\n",
       "      <td>Transport-moving</td>\n",
       "      <td>Husband</td>\n",
       "      <td>Male</td>\n",
       "      <td>0</td>\n",
       "      <td>0</td>\n",
       "      <td>40</td>\n",
       "      <td>United-States</td>\n",
       "    </tr>\n",
       "    <tr>\n",
       "      <th>19484</th>\n",
       "      <td>39</td>\n",
       "      <td>Private</td>\n",
       "      <td>Bachelors</td>\n",
       "      <td>Married-civ-spouse</td>\n",
       "      <td>Sales</td>\n",
       "      <td>Wife</td>\n",
       "      <td>Female</td>\n",
       "      <td>0</td>\n",
       "      <td>0</td>\n",
       "      <td>30</td>\n",
       "      <td>United-States</td>\n",
       "    </tr>\n",
       "  </tbody>\n",
       "</table>\n",
       "</div>"
      ],
      "text/plain": [
       "       age workclass   education       marital-status         occupation  \\\n",
       "7762    56   Private     HS-grad             Divorced      Other-service   \n",
       "23881   25   Private     HS-grad   Married-civ-spouse   Transport-moving   \n",
       "30507   43   Private   Bachelors             Divorced     Prof-specialty   \n",
       "28911   32   Private     HS-grad   Married-civ-spouse   Transport-moving   \n",
       "19484   39   Private   Bachelors   Married-civ-spouse              Sales   \n",
       "\n",
       "         relationship      sex  capital-gain  capital-loss  hours-per-week  \\\n",
       "7762        Unmarried   Female             0             0              40   \n",
       "23881       Own-child     Male             0             0              40   \n",
       "30507   Not-in-family   Female         14344             0              40   \n",
       "28911         Husband     Male             0             0              40   \n",
       "19484            Wife   Female             0             0              30   \n",
       "\n",
       "       native-country  \n",
       "7762    United-States  \n",
       "23881   United-States  \n",
       "30507   United-States  \n",
       "28911   United-States  \n",
       "19484   United-States  "
      ]
     },
     "execution_count": 9,
     "metadata": {},
     "output_type": "execute_result"
    }
   ],
   "source": [
    "data_test.head()"
   ]
  },
  {
   "cell_type": "code",
   "execution_count": 10,
   "id": "45f9f5ce",
   "metadata": {},
   "outputs": [
    {
     "data": {
      "text/plain": [
       "array([' <=50K', ' <=50K', ' >50K', ' <=50K', ' >50K'], dtype=object)"
      ]
     },
     "execution_count": 10,
     "metadata": {},
     "output_type": "execute_result"
    }
   ],
   "source": [
    "model.predict(data_test)[:5]"
   ]
  },
  {
   "cell_type": "code",
   "execution_count": 11,
   "id": "86620286",
   "metadata": {},
   "outputs": [
    {
     "data": {
      "text/plain": [
       "7762      <=50K\n",
       "23881     <=50K\n",
       "30507      >50K\n",
       "28911     <=50K\n",
       "19484     <=50K\n",
       "Name: class, dtype: object"
      ]
     },
     "execution_count": 11,
     "metadata": {},
     "output_type": "execute_result"
    }
   ],
   "source": [
    "target_test[:5]"
   ]
  },
  {
   "cell_type": "markdown",
   "id": "b8c02d8a",
   "metadata": {},
   "source": [
    "To **get the accuracy score directly**, we need to call the **`score` method**. Let's\n",
    "compute the accuracy score on the entire test set."
   ]
  },
  {
   "cell_type": "code",
   "execution_count": 12,
   "id": "f2bcd43d",
   "metadata": {},
   "outputs": [
    {
     "data": {
      "text/plain": [
       "0.8579149946769307"
      ]
     },
     "execution_count": 12,
     "metadata": {},
     "output_type": "execute_result"
    }
   ],
   "source": [
    "model.score(data_test, target_test)"
   ]
  },
  {
   "cell_type": "markdown",
   "id": "7293b759",
   "metadata": {},
   "source": [
    "## Evaluation of the model with cross-validation\n",
    "\n",
    "As previously stated, a predictive model should be evaluated by\n",
    "cross-validation. Our **model can be used with the cross-validation tools** of\n",
    "scikit-learn as any other predictors:"
   ]
  },
  {
   "cell_type": "code",
   "execution_count": 13,
   "id": "9be8fefb",
   "metadata": {},
   "outputs": [
    {
     "data": {
      "text/plain": [
       "{'fit_time': array([2.12392879, 2.22482443, 2.04467893, 2.14752054, 2.22123837]),\n",
       " 'score_time': array([0.06725287, 0.06257915, 0.06468511, 0.09512591, 0.09349203]),\n",
       " 'test_score': array([0.85177603, 0.84921691, 0.84817772, 0.8527846 , 0.85452498])}"
      ]
     },
     "execution_count": 13,
     "metadata": {},
     "output_type": "execute_result"
    }
   ],
   "source": [
    "from sklearn.model_selection import cross_validate\n",
    "\n",
    "cv_results = cross_validate(model, data, target, cv=5)\n",
    "cv_results"
   ]
  },
  {
   "cell_type": "code",
   "execution_count": 14,
   "id": "8a1061e5",
   "metadata": {},
   "outputs": [
    {
     "name": "stdout",
     "output_type": "stream",
     "text": [
      "The mean cross-validation accuracy is: 0.851 +/- 0.002\n"
     ]
    }
   ],
   "source": [
    "scores = cv_results[\"test_score\"]\n",
    "print(\"The mean cross-validation accuracy is: \"\n",
    "      f\"{scores.mean():.3f} +/- {scores.std():.3f}\")"
   ]
  },
  {
   "cell_type": "markdown",
   "id": "a5d94d79",
   "metadata": {},
   "source": [
    "The **combined model has a higher predictive accuracy** than the two models that\n",
    "used numerical and categorical variables in isolation."
   ]
  },
  {
   "cell_type": "markdown",
   "id": "c40b9e87",
   "metadata": {},
   "source": [
    "## Fitting a more powerful model\n",
    "\n",
    "**Linear models** are nice because they are usually cheap to train,\n",
    "**small** to deploy, **fast** to predict and give a **good baseline**.\n",
    "\n",
    "However, it is often useful to check whether more complex models such as an\n",
    "ensemble of decision trees can lead to higher predictive performance. In this\n",
    "section we will use such a model called **gradient-boosting trees** and\n",
    "evaluate its statistical performance. More precisely, the scikit-learn model\n",
    "we will use is called **`HistGradientBoostingClassifier`**. Note that boosting\n",
    "models will be covered in more details in a future module.\n",
    "\n",
    "For tree-based models, the handling of numerical and categorical variables is\n",
    "simpler than for linear models:\n",
    "* we do **not need to scale the numerical features**\n",
    "* using an **ordinal encoding for the categorical variables** is fine even if\n",
    "  the encoding results in an arbitrary ordering\n",
    "\n",
    "Therefore, for `HistGradientBoostingClassifier`, the preprocessing pipeline\n",
    "is slightly simpler than the one we saw earlier for the `LogisticRegression`:"
   ]
  },
  {
   "cell_type": "code",
   "execution_count": 15,
   "id": "d4548bc9",
   "metadata": {},
   "outputs": [
    {
     "name": "stderr",
     "output_type": "stream",
     "text": [
      "C:\\Users\\R21\\anaconda3\\envs\\dl\\lib\\site-packages\\sklearn\\experimental\\enable_hist_gradient_boosting.py:16: UserWarning: Since version 1.0, it is not needed to import enable_hist_gradient_boosting anymore. HistGradientBoostingClassifier and HistGradientBoostingRegressor are now stable and can be normally imported from sklearn.ensemble.\n",
      "  warnings.warn(\n"
     ]
    },
    {
     "data": {
      "text/html": [
       "<style>#sk-b6dcf106-c1dc-4e79-9669-1dc330211977 {color: black;background-color: white;}#sk-b6dcf106-c1dc-4e79-9669-1dc330211977 pre{padding: 0;}#sk-b6dcf106-c1dc-4e79-9669-1dc330211977 div.sk-toggleable {background-color: white;}#sk-b6dcf106-c1dc-4e79-9669-1dc330211977 label.sk-toggleable__label {cursor: pointer;display: block;width: 100%;margin-bottom: 0;padding: 0.3em;box-sizing: border-box;text-align: center;}#sk-b6dcf106-c1dc-4e79-9669-1dc330211977 label.sk-toggleable__label-arrow:before {content: \"▸\";float: left;margin-right: 0.25em;color: #696969;}#sk-b6dcf106-c1dc-4e79-9669-1dc330211977 label.sk-toggleable__label-arrow:hover:before {color: black;}#sk-b6dcf106-c1dc-4e79-9669-1dc330211977 div.sk-estimator:hover label.sk-toggleable__label-arrow:before {color: black;}#sk-b6dcf106-c1dc-4e79-9669-1dc330211977 div.sk-toggleable__content {max-height: 0;max-width: 0;overflow: hidden;text-align: left;background-color: #f0f8ff;}#sk-b6dcf106-c1dc-4e79-9669-1dc330211977 div.sk-toggleable__content pre {margin: 0.2em;color: black;border-radius: 0.25em;background-color: #f0f8ff;}#sk-b6dcf106-c1dc-4e79-9669-1dc330211977 input.sk-toggleable__control:checked~div.sk-toggleable__content {max-height: 200px;max-width: 100%;overflow: auto;}#sk-b6dcf106-c1dc-4e79-9669-1dc330211977 input.sk-toggleable__control:checked~label.sk-toggleable__label-arrow:before {content: \"▾\";}#sk-b6dcf106-c1dc-4e79-9669-1dc330211977 div.sk-estimator input.sk-toggleable__control:checked~label.sk-toggleable__label {background-color: #d4ebff;}#sk-b6dcf106-c1dc-4e79-9669-1dc330211977 div.sk-label input.sk-toggleable__control:checked~label.sk-toggleable__label {background-color: #d4ebff;}#sk-b6dcf106-c1dc-4e79-9669-1dc330211977 input.sk-hidden--visually {border: 0;clip: rect(1px 1px 1px 1px);clip: rect(1px, 1px, 1px, 1px);height: 1px;margin: -1px;overflow: hidden;padding: 0;position: absolute;width: 1px;}#sk-b6dcf106-c1dc-4e79-9669-1dc330211977 div.sk-estimator {font-family: monospace;background-color: #f0f8ff;border: 1px dotted black;border-radius: 0.25em;box-sizing: border-box;margin-bottom: 0.5em;}#sk-b6dcf106-c1dc-4e79-9669-1dc330211977 div.sk-estimator:hover {background-color: #d4ebff;}#sk-b6dcf106-c1dc-4e79-9669-1dc330211977 div.sk-parallel-item::after {content: \"\";width: 100%;border-bottom: 1px solid gray;flex-grow: 1;}#sk-b6dcf106-c1dc-4e79-9669-1dc330211977 div.sk-label:hover label.sk-toggleable__label {background-color: #d4ebff;}#sk-b6dcf106-c1dc-4e79-9669-1dc330211977 div.sk-serial::before {content: \"\";position: absolute;border-left: 1px solid gray;box-sizing: border-box;top: 2em;bottom: 0;left: 50%;}#sk-b6dcf106-c1dc-4e79-9669-1dc330211977 div.sk-serial {display: flex;flex-direction: column;align-items: center;background-color: white;padding-right: 0.2em;padding-left: 0.2em;}#sk-b6dcf106-c1dc-4e79-9669-1dc330211977 div.sk-item {z-index: 1;}#sk-b6dcf106-c1dc-4e79-9669-1dc330211977 div.sk-parallel {display: flex;align-items: stretch;justify-content: center;background-color: white;}#sk-b6dcf106-c1dc-4e79-9669-1dc330211977 div.sk-parallel::before {content: \"\";position: absolute;border-left: 1px solid gray;box-sizing: border-box;top: 2em;bottom: 0;left: 50%;}#sk-b6dcf106-c1dc-4e79-9669-1dc330211977 div.sk-parallel-item {display: flex;flex-direction: column;position: relative;background-color: white;}#sk-b6dcf106-c1dc-4e79-9669-1dc330211977 div.sk-parallel-item:first-child::after {align-self: flex-end;width: 50%;}#sk-b6dcf106-c1dc-4e79-9669-1dc330211977 div.sk-parallel-item:last-child::after {align-self: flex-start;width: 50%;}#sk-b6dcf106-c1dc-4e79-9669-1dc330211977 div.sk-parallel-item:only-child::after {width: 0;}#sk-b6dcf106-c1dc-4e79-9669-1dc330211977 div.sk-dashed-wrapped {border: 1px dashed gray;margin: 0 0.4em 0.5em 0.4em;box-sizing: border-box;padding-bottom: 0.4em;background-color: white;position: relative;}#sk-b6dcf106-c1dc-4e79-9669-1dc330211977 div.sk-label label {font-family: monospace;font-weight: bold;background-color: white;display: inline-block;line-height: 1.2em;}#sk-b6dcf106-c1dc-4e79-9669-1dc330211977 div.sk-label-container {position: relative;z-index: 2;text-align: center;}#sk-b6dcf106-c1dc-4e79-9669-1dc330211977 div.sk-container {/* jupyter's `normalize.less` sets `[hidden] { display: none; }` but bootstrap.min.css set `[hidden] { display: none !important; }` so we also need the `!important` here to be able to override the default hidden behavior on the sphinx rendered scikit-learn.org. See: https://github.com/scikit-learn/scikit-learn/issues/21755 */display: inline-block !important;position: relative;}#sk-b6dcf106-c1dc-4e79-9669-1dc330211977 div.sk-text-repr-fallback {display: none;}</style><div id=\"sk-b6dcf106-c1dc-4e79-9669-1dc330211977\" class=\"sk-top-container\"><div class=\"sk-text-repr-fallback\"><pre>Pipeline(steps=[(&#x27;columntransformer&#x27;,\n",
       "                 ColumnTransformer(remainder=&#x27;passthrough&#x27;,\n",
       "                                   transformers=[(&#x27;categorical&#x27;,\n",
       "                                                  OrdinalEncoder(handle_unknown=&#x27;use_encoded_value&#x27;,\n",
       "                                                                 unknown_value=-1),\n",
       "                                                  [&#x27;workclass&#x27;, &#x27;education&#x27;,\n",
       "                                                   &#x27;marital-status&#x27;,\n",
       "                                                   &#x27;occupation&#x27;, &#x27;relationship&#x27;,\n",
       "                                                   &#x27;sex&#x27;,\n",
       "                                                   &#x27;native-country&#x27;])])),\n",
       "                (&#x27;histgradientboostingclassifier&#x27;,\n",
       "                 HistGradientBoostingClassifier())])</pre><b>Please rerun this cell to show the HTML repr or trust the notebook.</b></div><div class=\"sk-container\" hidden><div class=\"sk-item sk-dashed-wrapped\"><div class=\"sk-label-container\"><div class=\"sk-label sk-toggleable\"><input class=\"sk-toggleable__control sk-hidden--visually\" id=\"6c293c59-5c14-4f2d-a14b-80336a442fb3\" type=\"checkbox\" ><label for=\"6c293c59-5c14-4f2d-a14b-80336a442fb3\" class=\"sk-toggleable__label sk-toggleable__label-arrow\">Pipeline</label><div class=\"sk-toggleable__content\"><pre>Pipeline(steps=[(&#x27;columntransformer&#x27;,\n",
       "                 ColumnTransformer(remainder=&#x27;passthrough&#x27;,\n",
       "                                   transformers=[(&#x27;categorical&#x27;,\n",
       "                                                  OrdinalEncoder(handle_unknown=&#x27;use_encoded_value&#x27;,\n",
       "                                                                 unknown_value=-1),\n",
       "                                                  [&#x27;workclass&#x27;, &#x27;education&#x27;,\n",
       "                                                   &#x27;marital-status&#x27;,\n",
       "                                                   &#x27;occupation&#x27;, &#x27;relationship&#x27;,\n",
       "                                                   &#x27;sex&#x27;,\n",
       "                                                   &#x27;native-country&#x27;])])),\n",
       "                (&#x27;histgradientboostingclassifier&#x27;,\n",
       "                 HistGradientBoostingClassifier())])</pre></div></div></div><div class=\"sk-serial\"><div class=\"sk-item sk-dashed-wrapped\"><div class=\"sk-label-container\"><div class=\"sk-label sk-toggleable\"><input class=\"sk-toggleable__control sk-hidden--visually\" id=\"b2a354af-d498-4727-aba1-6c7934eafe51\" type=\"checkbox\" ><label for=\"b2a354af-d498-4727-aba1-6c7934eafe51\" class=\"sk-toggleable__label sk-toggleable__label-arrow\">columntransformer: ColumnTransformer</label><div class=\"sk-toggleable__content\"><pre>ColumnTransformer(remainder=&#x27;passthrough&#x27;,\n",
       "                  transformers=[(&#x27;categorical&#x27;,\n",
       "                                 OrdinalEncoder(handle_unknown=&#x27;use_encoded_value&#x27;,\n",
       "                                                unknown_value=-1),\n",
       "                                 [&#x27;workclass&#x27;, &#x27;education&#x27;, &#x27;marital-status&#x27;,\n",
       "                                  &#x27;occupation&#x27;, &#x27;relationship&#x27;, &#x27;sex&#x27;,\n",
       "                                  &#x27;native-country&#x27;])])</pre></div></div></div><div class=\"sk-parallel\"><div class=\"sk-parallel-item\"><div class=\"sk-item\"><div class=\"sk-label-container\"><div class=\"sk-label sk-toggleable\"><input class=\"sk-toggleable__control sk-hidden--visually\" id=\"03a22025-fd70-4479-99e9-93d6a64ae395\" type=\"checkbox\" ><label for=\"03a22025-fd70-4479-99e9-93d6a64ae395\" class=\"sk-toggleable__label sk-toggleable__label-arrow\">categorical</label><div class=\"sk-toggleable__content\"><pre>[&#x27;workclass&#x27;, &#x27;education&#x27;, &#x27;marital-status&#x27;, &#x27;occupation&#x27;, &#x27;relationship&#x27;, &#x27;sex&#x27;, &#x27;native-country&#x27;]</pre></div></div></div><div class=\"sk-serial\"><div class=\"sk-item\"><div class=\"sk-estimator sk-toggleable\"><input class=\"sk-toggleable__control sk-hidden--visually\" id=\"aaaea0f1-0066-4e77-9da5-6868f4e5566a\" type=\"checkbox\" ><label for=\"aaaea0f1-0066-4e77-9da5-6868f4e5566a\" class=\"sk-toggleable__label sk-toggleable__label-arrow\">OrdinalEncoder</label><div class=\"sk-toggleable__content\"><pre>OrdinalEncoder(handle_unknown=&#x27;use_encoded_value&#x27;, unknown_value=-1)</pre></div></div></div></div></div></div><div class=\"sk-parallel-item\"><div class=\"sk-item\"><div class=\"sk-label-container\"><div class=\"sk-label sk-toggleable\"><input class=\"sk-toggleable__control sk-hidden--visually\" id=\"34092e47-74bb-402a-9a96-b7276cac459b\" type=\"checkbox\" ><label for=\"34092e47-74bb-402a-9a96-b7276cac459b\" class=\"sk-toggleable__label sk-toggleable__label-arrow\">remainder</label><div class=\"sk-toggleable__content\"><pre></pre></div></div></div><div class=\"sk-serial\"><div class=\"sk-item\"><div class=\"sk-estimator sk-toggleable\"><input class=\"sk-toggleable__control sk-hidden--visually\" id=\"d9da805d-b726-42fd-96e2-449a5e9136ad\" type=\"checkbox\" ><label for=\"d9da805d-b726-42fd-96e2-449a5e9136ad\" class=\"sk-toggleable__label sk-toggleable__label-arrow\">passthrough</label><div class=\"sk-toggleable__content\"><pre>passthrough</pre></div></div></div></div></div></div></div></div><div class=\"sk-item\"><div class=\"sk-estimator sk-toggleable\"><input class=\"sk-toggleable__control sk-hidden--visually\" id=\"58c65c66-daed-4b62-85d5-60d25fa31f87\" type=\"checkbox\" ><label for=\"58c65c66-daed-4b62-85d5-60d25fa31f87\" class=\"sk-toggleable__label sk-toggleable__label-arrow\">HistGradientBoostingClassifier</label><div class=\"sk-toggleable__content\"><pre>HistGradientBoostingClassifier()</pre></div></div></div></div></div></div></div>"
      ],
      "text/plain": [
       "Pipeline(steps=[('columntransformer',\n",
       "                 ColumnTransformer(remainder='passthrough',\n",
       "                                   transformers=[('categorical',\n",
       "                                                  OrdinalEncoder(handle_unknown='use_encoded_value',\n",
       "                                                                 unknown_value=-1),\n",
       "                                                  ['workclass', 'education',\n",
       "                                                   'marital-status',\n",
       "                                                   'occupation', 'relationship',\n",
       "                                                   'sex',\n",
       "                                                   'native-country'])])),\n",
       "                ('histgradientboostingclassifier',\n",
       "                 HistGradientBoostingClassifier())])"
      ]
     },
     "execution_count": 15,
     "metadata": {},
     "output_type": "execute_result"
    }
   ],
   "source": [
    "from sklearn.experimental import enable_hist_gradient_boosting\n",
    "from sklearn.ensemble import HistGradientBoostingClassifier\n",
    "from sklearn.preprocessing import OrdinalEncoder\n",
    "\n",
    "categorical_preprocessor = OrdinalEncoder(handle_unknown=\"use_encoded_value\",\n",
    "                                          unknown_value=-1)\n",
    "\n",
    "preprocessor = ColumnTransformer([\n",
    "    ('categorical', categorical_preprocessor, categorical_columns)],\n",
    "    remainder=\"passthrough\")\n",
    "\n",
    "model = make_pipeline(preprocessor, HistGradientBoostingClassifier())\n",
    "\n",
    "model"
   ]
  },
  {
   "cell_type": "markdown",
   "id": "e7c40844",
   "metadata": {},
   "source": [
    "Now that we have created our model, we can check its **statistical performance**."
   ]
  },
  {
   "cell_type": "code",
   "execution_count": 16,
   "id": "595ed2a0",
   "metadata": {},
   "outputs": [
    {
     "name": "stdout",
     "output_type": "stream",
     "text": [
      "Wall time: 2.07 s\n"
     ]
    }
   ],
   "source": [
    "%%time\n",
    "_ = model.fit(data_train, target_train)"
   ]
  },
  {
   "cell_type": "code",
   "execution_count": 17,
   "id": "3905da94",
   "metadata": {},
   "outputs": [
    {
     "data": {
      "text/plain": [
       "0.8799443125051183"
      ]
     },
     "execution_count": 17,
     "metadata": {},
     "output_type": "execute_result"
    }
   ],
   "source": [
    "model.score(data_test, target_test)"
   ]
  },
  {
   "cell_type": "markdown",
   "id": "e563f950",
   "metadata": {},
   "source": [
    "We can observe that we get **significantly higher accuracies with the Gradient\n",
    "Boosting model**. This is often what we observe whenever the dataset has a\n",
    "**large number of samples** and **limited number of informative features** (e.g. **less\n",
    "than 1000**) with a mix of numerical and categorical variables.\n",
    "\n",
    "This explains why **Gradient Boosted Machines are very popular among\n",
    "datascience practitioners** who work with **tabular data**."
   ]
  },
  {
   "cell_type": "markdown",
   "id": "d0131276",
   "metadata": {},
   "source": [
    "In this notebook we:\n",
    "\n",
    "* used a **`ColumnTransformer`** to apply different preprocessing for\n",
    "  categorical and numerical variables;\n",
    "* used a **pipeline** to chain the `ColumnTransformer` preprocessing and\n",
    "  logistic regression fitting;\n",
    "* saw that **gradient boosting methods** can outperform **linear\n",
    "  models**."
   ]
  },
  {
   "cell_type": "code",
   "execution_count": null,
   "id": "2e12a3c7",
   "metadata": {},
   "outputs": [],
   "source": []
  }
 ],
 "metadata": {
  "kernelspec": {
   "display_name": "Python 3 (ipykernel)",
   "language": "python",
   "name": "python3"
  },
  "language_info": {
   "codemirror_mode": {
    "name": "ipython",
    "version": 3
   },
   "file_extension": ".py",
   "mimetype": "text/x-python",
   "name": "python",
   "nbconvert_exporter": "python",
   "pygments_lexer": "ipython3",
   "version": "3.8.0"
  },
  "nbreset": "https://github.com/INRIA/scikit-learn-mooc/raw/master/notebooks/03_categorical_pipeline_column_transformer.ipynb"
 },
 "nbformat": 4,
 "nbformat_minor": 5
}
