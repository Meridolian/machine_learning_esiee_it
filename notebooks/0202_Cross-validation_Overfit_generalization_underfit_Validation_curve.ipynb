{
 "cells": [
  {
   "cell_type": "markdown",
   "id": "10d14478",
   "metadata": {},
   "source": [
    "# Overfit-generalization-underfit\n",
    "\n",
    "In the previous notebook, we presented the general cross-validation framework\n",
    "and how it helps us **quantify the training and test errors** as well\n",
    "as their variance.\n",
    "\n",
    "In this notebook, we put these two errors into perspective and show how\n",
    "they can help us **learn if the model generalizes, overfit, or underfit** by **tuning a hyperparameter** and **plotting a validation curve**.\n",
    "\n",
    "Let's first load the data and create the same model as in the previous\n",
    "notebook."
   ]
  },
  {
   "cell_type": "code",
   "execution_count": 1,
   "id": "ccd2c4ca",
   "metadata": {},
   "outputs": [],
   "source": [
    "from sklearn.datasets import fetch_california_housing\n",
    "\n",
    "housing = fetch_california_housing(as_frame=True)\n",
    "data, target = housing.data, housing.target\n",
    "target *= 100  # rescale the target in k$"
   ]
  },
  {
   "cell_type": "markdown",
   "id": "70c243ab",
   "metadata": {},
   "source": [
    "<div class=\"admonition note alert alert-info\">\n",
    "<p class=\"first admonition-title\" style=\"font-weight: bold;\">Note</p>\n",
    "<p class=\"last\">If you want a deeper overview regarding this dataset, you can refer to the\n",
    "Appendix - Datasets description section at the end of this Course.</p>\n",
    "</div>"
   ]
  },
  {
   "cell_type": "code",
   "execution_count": 2,
   "id": "f124855a",
   "metadata": {},
   "outputs": [],
   "source": [
    "from sklearn.tree import DecisionTreeRegressor\n",
    "\n",
    "regressor = DecisionTreeRegressor()"
   ]
  },
  {
   "cell_type": "markdown",
   "id": "af95d73d",
   "metadata": {},
   "source": [
    "## Overfitting vs. underfitting\n",
    "\n",
    "To **better understand the statistical performance of our model** and maybe find\n",
    "insights on how to improve it, we **compare the test error with the\n",
    "training error**. Thus, we need to compute the error on the training set,\n",
    "which is possible using the **`cross_validate`** function."
   ]
  },
  {
   "cell_type": "code",
   "execution_count": 3,
   "id": "bc4c34cf",
   "metadata": {},
   "outputs": [],
   "source": [
    "import pandas as pd\n",
    "from sklearn.model_selection import cross_validate, ShuffleSplit\n",
    "\n",
    "cv = ShuffleSplit(n_splits=30, test_size=0.2)\n",
    "cv_results = cross_validate(regressor, data, target,\n",
    "                            cv=cv, scoring=\"neg_mean_absolute_error\",\n",
    "                            return_train_score=True, n_jobs=2)\n",
    "cv_results = pd.DataFrame(cv_results)"
   ]
  },
  {
   "cell_type": "markdown",
   "id": "9fc03f38",
   "metadata": {},
   "source": [
    "The cross-validation used the **negative mean absolute error**. We transform\n",
    "the negative mean absolute error into a **positive mean absolute error**."
   ]
  },
  {
   "cell_type": "code",
   "execution_count": 4,
   "id": "6853a7cd",
   "metadata": {},
   "outputs": [
    {
     "data": {
      "text/html": [
       "<div>\n",
       "<style scoped>\n",
       "    .dataframe tbody tr th:only-of-type {\n",
       "        vertical-align: middle;\n",
       "    }\n",
       "\n",
       "    .dataframe tbody tr th {\n",
       "        vertical-align: top;\n",
       "    }\n",
       "\n",
       "    .dataframe thead th {\n",
       "        text-align: right;\n",
       "    }\n",
       "</style>\n",
       "<table border=\"1\" class=\"dataframe\">\n",
       "  <thead>\n",
       "    <tr style=\"text-align: right;\">\n",
       "      <th></th>\n",
       "      <th>train error</th>\n",
       "      <th>test error</th>\n",
       "    </tr>\n",
       "  </thead>\n",
       "  <tbody>\n",
       "    <tr>\n",
       "      <th>0</th>\n",
       "      <td>9.177844e-15</td>\n",
       "      <td>45.394396</td>\n",
       "    </tr>\n",
       "    <tr>\n",
       "      <th>1</th>\n",
       "      <td>3.085818e-15</td>\n",
       "      <td>44.549925</td>\n",
       "    </tr>\n",
       "    <tr>\n",
       "      <th>2</th>\n",
       "      <td>1.144304e-14</td>\n",
       "      <td>46.829088</td>\n",
       "    </tr>\n",
       "    <tr>\n",
       "      <th>3</th>\n",
       "      <td>1.494068e-14</td>\n",
       "      <td>46.527737</td>\n",
       "    </tr>\n",
       "    <tr>\n",
       "      <th>4</th>\n",
       "      <td>1.248614e-14</td>\n",
       "      <td>46.278335</td>\n",
       "    </tr>\n",
       "  </tbody>\n",
       "</table>\n",
       "</div>"
      ],
      "text/plain": [
       "    train error  test error\n",
       "0  9.177844e-15   45.394396\n",
       "1  3.085818e-15   44.549925\n",
       "2  1.144304e-14   46.829088\n",
       "3  1.494068e-14   46.527737\n",
       "4  1.248614e-14   46.278335"
      ]
     },
     "execution_count": 4,
     "metadata": {},
     "output_type": "execute_result"
    }
   ],
   "source": [
    "scores = pd.DataFrame()\n",
    "scores[[\"train error\", \"test error\"]] = -cv_results[\n",
    "    [\"train_score\", \"test_score\"]]\n",
    "scores.head()"
   ]
  },
  {
   "cell_type": "code",
   "execution_count": 5,
   "id": "2155c798",
   "metadata": {},
   "outputs": [
    {
     "data": {
      "image/png": "[encoded data removed]",
      "text/plain": [
       "<Figure size 432x288 with 1 Axes>"
      ]
     },
     "metadata": {
      "needs_background": "light"
     },
     "output_type": "display_data"
    }
   ],
   "source": [
    "import matplotlib.pyplot as plt\n",
    "\n",
    "scores.plot.hist(bins=50, edgecolor=\"black\", density=True)\n",
    "plt.xlabel(\"Mean absolute error (k$)\")\n",
    "_ = plt.title(\"Train and test errors distribution via cross-validation\")"
   ]
  },
  {
   "cell_type": "markdown",
   "id": "20d33ac6",
   "metadata": {},
   "source": [
    "By **plotting the distribution of the training and test errors**, we\n",
    "get information about **whether our model is over-fitting or under-fitting** (or\n",
    "both at the same time).\n",
    "\n",
    "Here, we observe a **small training error** (actually zero), meaning that\n",
    "the model is **not under-fitting**: it is flexible enough to capture any\n",
    "variations present in the training set.\n",
    "\n",
    "However the **significantly larger testing error** tells us that the\n",
    "model is **over-fitting**: the model has memorized many variations of the\n",
    "training set that could be considered \"noisy\" because they do not generalize\n",
    "to help us make good prediction on the test set.\n",
    "\n",
    "## Validation curve\n",
    "\n",
    "Some **model hyperparameters** are usually the key to **go from** a model that\n",
    "**underfits to** a model that **overfits**, hopefully going through a **region** where we\n",
    "can get a **good balance between the two**. We can acquire knowledge by **plotting**\n",
    "a curve called the **validation curve**. This curve can also be applied to the\n",
    "above experiment and varies the value of a hyperparameter.\n",
    "\n",
    "For the **decision tree**, the **`max_depth` parameter** is used to **control** the\n",
    "tradeoff between under-fitting and over-fitting."
   ]
  },
  {
   "cell_type": "code",
   "execution_count": 6,
   "id": "d73126ee",
   "metadata": {},
   "outputs": [
    {
     "name": "stdout",
     "output_type": "stream",
     "text": [
      "Wall time: 27 s\n"
     ]
    }
   ],
   "source": [
    "%%time\n",
    "from sklearn.model_selection import validation_curve\n",
    "\n",
    "max_depth = [1, 5, 10, 15, 20, 25]\n",
    "train_scores, test_scores = validation_curve(\n",
    "    regressor, data, target, param_name=\"max_depth\", param_range=max_depth,\n",
    "    cv=cv, scoring=\"neg_mean_absolute_error\", n_jobs=2)\n",
    "train_errors, test_errors = -train_scores, -test_scores"
   ]
  },
  {
   "cell_type": "code",
   "execution_count": 7,
   "id": "37df2651",
   "metadata": {},
   "outputs": [
    {
     "name": "stdout",
     "output_type": "stream",
     "text": [
      "[[74.31882183 76.39359232 75.47974112 73.66049629 73.53580663 73.05103022\n",
      "  74.90016968 75.99138133 73.74703895 76.21517916 75.0772695  72.69331439\n",
      "  74.82653562 73.34231077 74.17145829 76.59787232 73.60873788 74.98402528\n",
      "  73.08004831 75.3204568  73.55692348 75.73937289 74.23760747 74.68765376\n",
      "  75.88033658 73.59238401 74.61653668 75.29414249 75.13303353 74.84131677]\n",
      " [52.72408369 53.63203695 52.58251309 52.32361678 50.34938175 52.66128894\n",
      "  51.36751809 51.97205847 51.57911485 52.97802639 52.15057588 52.42594008\n",
      "  52.31137229 52.43337588 52.07219686 53.26350486 51.57365952 52.69187524\n",
      "  50.73640421 50.50629563 50.62132525 52.58930852 51.32902096 51.69304244\n",
      "  53.30467858 52.13181489 51.22183381 52.39366944 51.66490482 52.4980877 ]\n",
      " [42.70454783 43.58240526 43.13349246 42.63054173 41.82825061 43.05999247\n",
      "  40.72002094 41.2755247  41.25803194 42.30219965 41.82239309 42.50690863\n",
      "  41.87655903 42.33783946 42.66463913 42.92508988 41.63161523 42.37823325\n",
      "  40.23041398 40.21022061 40.60794172 43.49959505 41.13655899 41.42825699\n",
      "  44.89557219 43.30045152 41.85917    42.55679011 41.56030277 43.20853371]\n",
      " [44.54560898 43.42378541 43.79977412 44.37860268 42.78445092 43.93486819\n",
      "  41.92352347 42.02652642 42.15133934 44.06914048 43.34429238 45.42845076\n",
      "  43.44574438 43.14790609 44.07109181 45.39728074 43.66323964 43.57256207\n",
      "  41.78482217 42.2480416  41.99204754 45.66366964 42.65830081 43.5504692\n",
      "  44.85039078 44.01364886 44.75398028 45.51774659 42.89464633 44.68807291]\n",
      " [45.77325655 45.29930101 45.60278611 46.36754332 45.20202753 46.45314656\n",
      "  44.38001843 44.60945052 44.30796254 45.99465968 44.91125896 48.11330592\n",
      "  45.94280329 45.39874498 46.12972589 47.93166197 45.69412867 45.48349929\n",
      "  43.57301703 44.09770677 43.3385647  47.56808368 44.73372961 45.38089372\n",
      "  47.06413766 46.80528848 47.17905984 47.25023002 45.13979184 46.87295671]\n",
      " [46.13944803 45.88681251 45.30077457 46.56531802 44.93295291 46.22132171\n",
      "  44.04420442 44.38993833 44.45411967 46.79609729 45.20745032 48.00266836\n",
      "  45.57144187 45.55983371 46.39589253 47.76050874 45.17951775 45.5404623\n",
      "  43.90071843 44.51409317 44.34583621 48.10834932 45.22200453 45.81452309\n",
      "  47.31270703 46.92644231 46.95049034 47.47748275 45.40813892 46.91188113]]\n"
     ]
    }
   ],
   "source": [
    "print(test_errors)"
   ]
  },
  {
   "cell_type": "markdown",
   "id": "002686b2",
   "metadata": {},
   "source": [
    "Now that we collected the results, we will show the **validation curve** by\n",
    "**plotting the training and testing errors** (as well as their deviations)."
   ]
  },
  {
   "cell_type": "code",
   "execution_count": 8,
   "id": "130e6343",
   "metadata": {},
   "outputs": [
    {
     "data": {
      "image/png": "[encoded data removed]",
      "text/plain": [
       "<Figure size 432x288 with 1 Axes>"
      ]
     },
     "metadata": {
      "needs_background": "light"
     },
     "output_type": "display_data"
    }
   ],
   "source": [
    "plt.plot(max_depth, train_errors.mean(axis=1), label=\"Training error\")\n",
    "plt.plot(max_depth, test_errors.mean(axis=1), label=\"Testing error\")\n",
    "plt.legend()\n",
    "\n",
    "plt.xlabel(\"Maximum depth of decision tree\")\n",
    "plt.ylabel(\"Mean absolute error (k$)\")\n",
    "_ = plt.title(\"Validation curve for decision tree\")"
   ]
  },
  {
   "cell_type": "markdown",
   "id": "acb8e9eb",
   "metadata": {},
   "source": [
    "The **validation curve** can be divided into **three regions**:\n",
    "\n",
    "- For **`max_depth < 10`**, the decision tree **underfits**. The **training error** and\n",
    "  therefore the testing error are both **high**. The **model** is **too\n",
    "  constrained** and cannot capture much of the variability of the target\n",
    "  variable.\n",
    "\n",
    "- The region around **`max_depth = 10`** corresponds to the parameter for which\n",
    "  the **decision tree generalizes the best**. It is **flexible enough to capture a\n",
    "  fraction of the variability of the target that generalizes**, while **not\n",
    "  memorizing all of the noise in the target**.\n",
    "\n",
    "- For **`max_depth > 10`**, the decision tree **overfits**. The **training error**\n",
    "  becomes very **small**, while the **test error increases**. In this\n",
    "  region, the models create decisions specifically for noisy samples harming\n",
    "  its ability to generalize to test data.\n",
    "\n",
    "Note that for **`max_depth = 10`**, the **model overfits a bit** as there is a **gap\n",
    "between the training error and the test error**. It can also\n",
    "**potentially underfit also** a bit at the same time, because the **training error\n",
    "is still far from zero** (more than \\\\$30k), meaning that the model might\n",
    "still be too constrained to model interesting parts of the data. However, the\n",
    "**test error is at its minimum**, and this is what really matters. This is the\n",
    "**best compromise** we could reach by  **tuning this single parameter**.\n",
    "\n",
    "Be aware that looking at the **mean errors** is quite limiting. We should also\n",
    "look at the **standard deviation** to assess the dispersion of the score. We\n",
    "can repeat the same plot as before but this time, we will add some\n",
    "information to show the standard deviation of the errors as well."
   ]
  },
  {
   "cell_type": "code",
   "execution_count": 9,
   "id": "62b2cd98",
   "metadata": {},
   "outputs": [
    {
     "data": {
      "image/png": "[encoded data removed]",
      "text/plain": [
       "<Figure size 432x288 with 1 Axes>"
      ]
     },
     "metadata": {
      "needs_background": "light"
     },
     "output_type": "display_data"
    }
   ],
   "source": [
    "plt.errorbar(max_depth, train_errors.mean(axis=1),\n",
    "             yerr=train_errors.std(axis=1), label='Training error')\n",
    "plt.errorbar(max_depth, test_errors.mean(axis=1),\n",
    "             yerr=test_errors.std(axis=1), label='Testing error')\n",
    "plt.legend()\n",
    "\n",
    "plt.xlabel(\"Maximum depth of decision tree\")\n",
    "plt.ylabel(\"Mean absolute error (k$)\")\n",
    "_ = plt.title(\"Validation curve for decision tree\")"
   ]
  },
  {
   "cell_type": "markdown",
   "id": "5a8fef9c",
   "metadata": {},
   "source": [
    "We are lucky that the **variance of the errors is small** compared to their\n",
    "respective values, and therefore the conclusions above are quite clear. This\n",
    "is not necessarily always the case."
   ]
  },
  {
   "cell_type": "markdown",
   "id": "76d53ddc",
   "metadata": {},
   "source": [
    "## Summary:\n",
    "\n",
    "In this notebook, we saw:\n",
    "\n",
    "* how to identify whether a model is **generalizing**, overfitting, or\n",
    "  underfitting;\n",
    "* how to check **influence of a hyperparameter** on the **tradeoff\n",
    "  underfit/overfit**."
   ]
  },
  {
   "cell_type": "code",
   "execution_count": null,
   "id": "b718d6d8",
   "metadata": {},
   "outputs": [],
   "source": []
  }
 ],
 "metadata": {
  "jupytext": {
   "cell_metadata_filter": "-all",
   "main_language": "python",
   "notebook_metadata_filter": "-all"
  },
  "kernelspec": {
   "display_name": "Python 3 (ipykernel)",
   "language": "python",
   "name": "python3"
  },
  "language_info": {
   "codemirror_mode": {
    "name": "ipython",
    "version": 3
   },
   "file_extension": ".py",
   "mimetype": "text/x-python",
   "name": "python",
   "nbconvert_exporter": "python",
   "pygments_lexer": "ipython3",
   "version": "3.8.0"
  },
  "nbreset": "https://github.com/INRIA/scikit-learn-mooc/raw/master/notebooks/cross_validation_validation_curve.ipynb"
 },
 "nbformat": 4,
 "nbformat_minor": 5
}
